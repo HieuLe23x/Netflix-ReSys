{
  "cells": [
    {
      "attachments": {},
      "cell_type": "markdown",
      "metadata": {},
      "source": [
        "##  Import"
      ]
    },
    {
      "cell_type": "code",
      "execution_count": 6,
      "metadata": {
        "execution": {
          "iopub.execute_input": "2021-11-04T16:26:57.569677Z",
          "iopub.status.busy": "2021-11-04T16:26:57.569263Z",
          "iopub.status.idle": "2021-11-04T16:26:59.125680Z",
          "shell.execute_reply": "2021-11-04T16:26:59.124636Z",
          "shell.execute_reply.started": "2021-11-04T16:26:57.569583Z"
        },
        "id": "gXcetYBeLkW2",
        "trusted": true
      },
      "outputs": [],
      "source": [
        "import os\n",
        "import gc\n",
        "import random\n",
        "import matplotlib\n",
        "import numpy as np\n",
        "import pandas as pd\n",
        "import seaborn as sns\n",
        "import xgboost as xgb\n",
        "import matplotlib.pyplot as plt\n",
        "import matplotlib.ticker as mticker\n",
        "\n",
        "from datetime import datetime\n",
        "from scipy import sparse\n",
        "from scipy.sparse import csr_matrix\n",
        "from ipywidgets import interact\n",
        "from IPython.display import Image\n",
        "\n",
        "# Surprise Imports\n",
        "from surprise import Reader, Dataset\n",
        "from surprise import BaselineOnly \n",
        "from surprise import KNNBaseline\n",
        "from surprise import SVD\n",
        "from surprise import SVDpp\n",
        "\n",
        "# Scikit-Learn Imports\n",
        "from sklearn.decomposition import TruncatedSVD\n",
        "from sklearn.metrics.pairwise import cosine_similarity\n",
        "\n",
        "# Configuration\n",
        "# matplotlib.use('nbagg')\n",
        "# plt.rcParams.update({'figure.max_open_warning': 0})\n",
        "sns.set_style('whitegrid')"
      ]
    },
    {
      "attachments": {},
      "cell_type": "markdown",
      "metadata": {},
      "source": [
        "# EDA"
      ]
    },
    {
      "attachments": {},
      "cell_type": "markdown",
      "metadata": {},
      "source": [
        "## 2.1 Load Data "
      ]
    },
    {
      "cell_type": "code",
      "execution_count": 33,
      "metadata": {
        "colab": {
          "base_uri": "https://localhost:8080/"
        },
        "execution": {
          "iopub.execute_input": "2021-11-04T16:26:59.133768Z",
          "iopub.status.busy": "2021-11-04T16:26:59.133044Z",
          "iopub.status.idle": "2021-11-04T16:26:59.156528Z",
          "shell.execute_reply": "2021-11-04T16:26:59.155167Z",
          "shell.execute_reply.started": "2021-11-04T16:26:59.133702Z"
        },
        "id": "MjHcorniLkW8",
        "outputId": "463361b3-9a92-4122-87fa-a35237216299",
        "trusted": true
      },
      "outputs": [
        {
          "name": "stdout",
          "output_type": "stream",
          "text": [
            "Reading ratings from .\\combined_data_1.txt\n",
            "\n",
            "Reading ratings from .\\combined_data_2.txt\n",
            "\n",
            "Reading ratings from .\\combined_data_3.txt\n",
            "\n",
            "Reading ratings from .\\combined_data_4.txt\n",
            "\n",
            "Time taken : 0:08:20.487364\n"
          ]
        }
      ],
      "source": [
        "start = datetime.now()\n",
        "if not os.path.isfile('./data.csv'):\n",
        "    # Create a file 'data.csv' before reading it\n",
        "    # Read all the files in the dataset and store them in one big file ('data.csv')\n",
        "    # We're reading from each of the four files and appending each rating to a global file 'data.csv'\n",
        "    data = open('data.csv', mode='w')\n",
        "    \n",
        "    row = list()\n",
        "    files = [\n",
        "        './combined_data_1.txt',\n",
        "        './combined_data_2.txt', \n",
        "        './combined_data_3.txt', \n",
        "        './combined_data_4.txt'\n",
        "    ]\n",
        "    for file in files:\n",
        "        print(\"Reading ratings from {}\\n\".format(file))\n",
        "        with open(file) as f:\n",
        "            for line in f: \n",
        "                line = line.strip()\n",
        "                if line.endswith(':'):\n",
        "                    # All below are ratings for this movie, until another movie appears.\n",
        "                    movie_id = line.replace(':', '')\n",
        "                else:\n",
        "                    row = [x for x in line.split(',')]\n",
        "                    row.insert(0, movie_id)\n",
        "                    data.write(','.join(row))\n",
        "                    data.write('\\n')\n",
        "    data.close()\n",
        "print('Time taken :', datetime.now() - start)"
      ]
    },
    {
      "cell_type": "code",
      "execution_count": 34,
      "metadata": {
        "colab": {
          "base_uri": "https://localhost:8080/"
        },
        "execution": {
          "iopub.execute_input": "2021-11-04T16:26:59.159971Z",
          "iopub.status.busy": "2021-11-04T16:26:59.159417Z",
          "iopub.status.idle": "2021-11-04T16:29:12.387518Z",
          "shell.execute_reply": "2021-11-04T16:29:12.385806Z",
          "shell.execute_reply.started": "2021-11-04T16:26:59.159921Z"
        },
        "id": "X5QAsD9RLkW-",
        "outputId": "165e2a63-032e-45c8-e479-59a786e94956",
        "trusted": true
      },
      "outputs": [
        {
          "name": "stdout",
          "output_type": "stream",
          "text": [
            "Sorting the dataframe by Date\n",
            "Done\n"
          ]
        }
      ],
      "source": [
        "# print(\"Creating the dataframe from data.csv file\")\n",
        "df = pd.read_csv('./data.csv', sep=',', \n",
        "    names=['movie', 'user', 'rating', 'date'])\n",
        "df.date = pd.to_datetime(df.date)\n",
        "\n",
        "# We are arranging the ratings according to time-stamp(s)\n",
        "print('Sorting the dataframe by Date')\n",
        "df.sort_values(by='date', inplace=True)\n",
        "print('Done')"
      ]
    },
    {
      "cell_type": "code",
      "execution_count": 35,
      "metadata": {
        "colab": {
          "base_uri": "https://localhost:8080/",
          "height": 206
        },
        "execution": {
          "iopub.execute_input": "2021-11-04T16:29:12.389914Z",
          "iopub.status.busy": "2021-11-04T16:29:12.389572Z",
          "iopub.status.idle": "2021-11-04T16:29:12.415364Z",
          "shell.execute_reply": "2021-11-04T16:29:12.414063Z",
          "shell.execute_reply.started": "2021-11-04T16:29:12.389874Z"
        },
        "id": "Z6hgUOGILkW_",
        "outputId": "3f9eefb2-5266-4387-d26a-77e48ee4ab59",
        "trusted": true
      },
      "outputs": [
        {
          "data": {
            "text/html": [
              "<div>\n",
              "<style scoped>\n",
              "    .dataframe tbody tr th:only-of-type {\n",
              "        vertical-align: middle;\n",
              "    }\n",
              "\n",
              "    .dataframe tbody tr th {\n",
              "        vertical-align: top;\n",
              "    }\n",
              "\n",
              "    .dataframe thead th {\n",
              "        text-align: right;\n",
              "    }\n",
              "</style>\n",
              "<table border=\"1\" class=\"dataframe\">\n",
              "  <thead>\n",
              "    <tr style=\"text-align: right;\">\n",
              "      <th></th>\n",
              "      <th>movie</th>\n",
              "      <th>user</th>\n",
              "      <th>rating</th>\n",
              "      <th>date</th>\n",
              "    </tr>\n",
              "  </thead>\n",
              "  <tbody>\n",
              "    <tr>\n",
              "      <th>56431994</th>\n",
              "      <td>10341</td>\n",
              "      <td>510180</td>\n",
              "      <td>4</td>\n",
              "      <td>1999-11-11</td>\n",
              "    </tr>\n",
              "    <tr>\n",
              "      <th>9056171</th>\n",
              "      <td>1798</td>\n",
              "      <td>510180</td>\n",
              "      <td>5</td>\n",
              "      <td>1999-11-11</td>\n",
              "    </tr>\n",
              "    <tr>\n",
              "      <th>58698779</th>\n",
              "      <td>10774</td>\n",
              "      <td>510180</td>\n",
              "      <td>3</td>\n",
              "      <td>1999-11-11</td>\n",
              "    </tr>\n",
              "    <tr>\n",
              "      <th>48101611</th>\n",
              "      <td>8651</td>\n",
              "      <td>510180</td>\n",
              "      <td>2</td>\n",
              "      <td>1999-11-11</td>\n",
              "    </tr>\n",
              "    <tr>\n",
              "      <th>81893208</th>\n",
              "      <td>14660</td>\n",
              "      <td>510180</td>\n",
              "      <td>2</td>\n",
              "      <td>1999-11-11</td>\n",
              "    </tr>\n",
              "  </tbody>\n",
              "</table>\n",
              "</div>"
            ],
            "text/plain": [
              "          movie    user  rating       date\n",
              "56431994  10341  510180       4 1999-11-11\n",
              "9056171    1798  510180       5 1999-11-11\n",
              "58698779  10774  510180       3 1999-11-11\n",
              "48101611   8651  510180       2 1999-11-11\n",
              "81893208  14660  510180       2 1999-11-11"
            ]
          },
          "execution_count": 35,
          "metadata": {},
          "output_type": "execute_result"
        }
      ],
      "source": [
        "df.head()"
      ]
    },
    {
      "cell_type": "code",
      "execution_count": null,
      "metadata": {
        "colab": {
          "base_uri": "https://localhost:8080/"
        },
        "execution": {
          "iopub.execute_input": "2021-11-04T16:29:12.416943Z",
          "iopub.status.busy": "2021-11-04T16:29:12.416696Z",
          "iopub.status.idle": "2021-11-04T16:29:24.658576Z",
          "shell.execute_reply": "2021-11-04T16:29:24.657670Z",
          "shell.execute_reply.started": "2021-11-04T16:29:12.416913Z"
        },
        "id": "WCHnPWxfLkW_",
        "outputId": "f91d82b2-4197-4016-8206-16b7b79572ee",
        "trusted": true
      },
      "outputs": [
        {
          "data": {
            "text/plain": [
              "count    1.004805e+08\n",
              "mean     3.604290e+00\n",
              "std      1.085219e+00\n",
              "min      1.000000e+00\n",
              "25%      3.000000e+00\n",
              "50%      4.000000e+00\n",
              "75%      4.000000e+00\n",
              "max      5.000000e+00\n",
              "Name: rating, dtype: float64"
            ]
          },
          "execution_count": 9,
          "metadata": {},
          "output_type": "execute_result"
        }
      ],
      "source": [
        "df.describe()['rating']"
      ]
    },
    {
      "attachments": {},
      "cell_type": "markdown",
      "metadata": {
        "id": "rBEZMkDALkXA"
      },
      "source": [
        "### 2.1.1 Checking for NaN values"
      ]
    },
    {
      "cell_type": "code",
      "execution_count": null,
      "metadata": {
        "colab": {
          "base_uri": "https://localhost:8080/"
        },
        "execution": {
          "iopub.execute_input": "2021-11-04T16:29:24.660796Z",
          "iopub.status.busy": "2021-11-04T16:29:24.660169Z",
          "iopub.status.idle": "2021-11-04T16:29:24.922997Z",
          "shell.execute_reply": "2021-11-04T16:29:24.921991Z",
          "shell.execute_reply.started": "2021-11-04T16:29:24.660745Z"
        },
        "id": "3FC5xdZzLkXB",
        "outputId": "3f704ff1-aa5c-4fdf-872e-6e2918763414",
        "trusted": true
      },
      "outputs": [
        {
          "name": "stdout",
          "output_type": "stream",
          "text": [
            "No of Nan values in our dataframe:  0\n"
          ]
        }
      ],
      "source": [
        "# Just to make sure that all Nan containing rows are deleted\n",
        "print(\"No of Nan values in our dataframe: \", sum(df.isnull().any()))"
      ]
    },
    {
      "attachments": {},
      "cell_type": "markdown",
      "metadata": {
        "id": "43CWhaGuLkXB"
      },
      "source": [
        "### 2.1.2 Removing Duplicates"
      ]
    },
    {
      "cell_type": "code",
      "execution_count": null,
      "metadata": {
        "colab": {
          "base_uri": "https://localhost:8080/"
        },
        "execution": {
          "iopub.execute_input": "2021-11-04T16:29:24.925451Z",
          "iopub.status.busy": "2021-11-04T16:29:24.924839Z",
          "iopub.status.idle": "2021-11-04T16:30:23.717713Z",
          "shell.execute_reply": "2021-11-04T16:30:23.716319Z",
          "shell.execute_reply.started": "2021-11-04T16:29:24.925411Z"
        },
        "id": "WCIaYlpxLkXC",
        "outputId": "22388d7d-53b6-409e-9e9a-e86a0b558364",
        "trusted": true
      },
      "outputs": [
        {
          "name": "stdout",
          "output_type": "stream",
          "text": [
            "There are 0 duplicate rating entries in the data\n"
          ]
        }
      ],
      "source": [
        "# By considering all columns, including timestamp\n",
        "dup_bool = df.duplicated(['movie','user','rating'])\n",
        "dups = sum(dup_bool) \n",
        "print(\"There are {} duplicate rating entries in the data\".format(dups))"
      ]
    },
    {
      "attachments": {},
      "cell_type": "markdown",
      "metadata": {
        "id": "HdEb6zWgLkXC"
      },
      "source": [
        "### 2.1.3 Basic Statistics (#Ratings, #Users, and #Movies)"
      ]
    },
    {
      "cell_type": "code",
      "execution_count": 63,
      "metadata": {
        "colab": {
          "base_uri": "https://localhost:8080/"
        },
        "execution": {
          "iopub.execute_input": "2021-11-04T16:30:23.720539Z",
          "iopub.status.busy": "2021-11-04T16:30:23.719648Z",
          "iopub.status.idle": "2021-11-04T16:30:42.167243Z",
          "shell.execute_reply": "2021-11-04T16:30:42.166269Z",
          "shell.execute_reply.started": "2021-11-04T16:30:23.720487Z"
        },
        "id": "MaqxLkc2LkXC",
        "outputId": "cadcc44f-12b9-480f-a336-3ee2c24b5d3f",
        "trusted": true
      },
      "outputs": [
        {
          "name": "stdout",
          "output_type": "stream",
          "text": [
            "Total No of Ratings: 100480507\n",
            "Total No of Users  : 480189\n",
            "Total No of movies : 17770\n"
          ]
        },
        {
          "data": {
            "text/plain": [
              "7862"
            ]
          },
          "execution_count": 63,
          "metadata": {},
          "output_type": "execute_result"
        }
      ],
      "source": [
        "total_users = len(np.unique(df.user))\n",
        "total_movies = len(np.unique(df.movie))\n",
        "\n",
        "print(\"Total No of Ratings:\", df.shape[0])\n",
        "print(\"Total No of Users  :\", total_users)\n",
        "print(\"Total No of movies :\", total_movies)\n",
        "\n",
        "# Removing the original dataframe from RAM\n",
        "del df\n",
        "gc.collect()"
      ]
    },
    {
      "attachments": {},
      "cell_type": "markdown",
      "metadata": {
        "id": "aSJBxKiCLkXD"
      },
      "source": [
        "## 2.2 Spliting data into Train and Test (80:20)\n",
        "- Since, the data that we have been given has a **temporal structure**, i.e., the ratings given to the movies by the users change over time, hence, we will prefer time-based splitting over random splitting. \n",
        "- Thankfully, we have been given the timestamp(s), so, we have arranged our data in increasing order of timestamp(s), and now, we will take the first 80% of the data, and make it the training set, and the rest 20%, we will make it the test set."
      ]
    },
    {
      "cell_type": "code",
      "execution_count": 36,
      "metadata": {
        "colab": {
          "base_uri": "https://localhost:8080/"
        },
        "execution": {
          "iopub.execute_input": "2021-11-04T16:30:42.169356Z",
          "iopub.status.busy": "2021-11-04T16:30:42.168991Z",
          "iopub.status.idle": "2021-11-04T16:32:04.504582Z",
          "shell.execute_reply": "2021-11-04T16:32:04.503596Z",
          "shell.execute_reply.started": "2021-11-04T16:30:42.169309Z"
        },
        "id": "FaWVS0ZLLkXD",
        "outputId": "a5c509a0-4466-4d95-fd6c-52a3918b0f75",
        "trusted": true
      },
      "outputs": [
        {
          "name": "stdout",
          "output_type": "stream",
          "text": [
            "data.csv file is not there\n"
          ]
        }
      ],
      "source": [
        "if not os.path.isfile('./train.csv'):\n",
        "    # Creating the separator\n",
        "    sep = int(df.shape[0] * 0.80)\n",
        "    # Create the dataframe and store it in the disk for offline purposes\n",
        "    train_df = df.iloc[:sep]\n",
        "    train_df.to_csv(\"train.csv\", index=False)\n",
        "\n",
        "if not os.path.isfile('./test.csv'):\n",
        "    # Creating the separator\n",
        "    sep = int(df.shape[0] * 0.80)\n",
        "    # Create the dataframe and store it in the disk for offline purposes\n",
        "    test_df = df.iloc[sep:]\n",
        "    test_df.to_csv(\"test.csv\", index=False)\n",
        "\n",
        "train_df = pd.read_csv(\"train.csv\", parse_dates = ['date'])\n",
        "test_df = pd.read_csv('test.csv')\n",
        "\n",
        "os.remove('data.csv')\n",
        "# Removing data.csv\n",
        "try: os.remove(\"data.csv\")\n",
        "except: print(\"data.csv file is not there\")\n",
        "\n"
      ]
    },
    {
      "attachments": {},
      "cell_type": "markdown",
      "metadata": {
        "id": "ArTpR4IYLkXE"
      },
      "source": [
        "### 2.2.1 Basic Statistics in Train data (#Ratings, #Users, and #Movies)"
      ]
    },
    {
      "cell_type": "code",
      "execution_count": 37,
      "metadata": {
        "execution": {
          "iopub.execute_input": "2021-11-04T16:32:04.507066Z",
          "iopub.status.busy": "2021-11-04T16:32:04.506526Z",
          "iopub.status.idle": "2021-11-04T16:32:18.912360Z",
          "shell.execute_reply": "2021-11-04T16:32:18.911327Z",
          "shell.execute_reply.started": "2021-11-04T16:32:04.507014Z"
        },
        "id": "0Lqg8uAwLkXE",
        "outputId": "da0f04e6-02cf-4566-e0c5-724f99d7a68c",
        "trusted": true
      },
      "outputs": [
        {
          "name": "stdout",
          "output_type": "stream",
          "text": [
            "Total no of Ratings: 80384405\n",
            "Total No of Users  : 405041\n",
            "Total No of movies : 17424\n"
          ]
        }
      ],
      "source": [
        "print(\"Total no of Ratings:\", train_df.shape[0])\n",
        "print(\"Total No of Users  :\", len(np.unique(train_df.user)))\n",
        "print(\"Total No of movies :\", len(np.unique(train_df.movie)))"
      ]
    },
    {
      "attachments": {},
      "cell_type": "markdown",
      "metadata": {
        "id": "UvSqEVf3LkXF"
      },
      "source": [
        "### 2.2.2 Basic Statistics in Test data (#Ratings, #Users, and #Movies)"
      ]
    },
    {
      "cell_type": "code",
      "execution_count": null,
      "metadata": {
        "execution": {
          "iopub.execute_input": "2021-11-04T16:32:18.914951Z",
          "iopub.status.busy": "2021-11-04T16:32:18.913856Z",
          "iopub.status.idle": "2021-11-04T16:32:22.454037Z",
          "shell.execute_reply": "2021-11-04T16:32:22.453020Z",
          "shell.execute_reply.started": "2021-11-04T16:32:18.914898Z"
        },
        "id": "PMBGQRYaLkXF",
        "outputId": "426e0195-514a-4f08-f6ab-96574e982471",
        "trusted": true
      },
      "outputs": [
        {
          "name": "stdout",
          "output_type": "stream",
          "text": [
            "Total no of Ratings: 20096102\n",
            "Total No of Users  : 349312\n",
            "Total No of movies : 17757\n"
          ]
        }
      ],
      "source": [
        "print(\"Total no of Ratings:\", test_df.shape[0])\n",
        "print(\"Total No of Users  :\", len(np.unique(test_df.user)))\n",
        "print(\"Total No of movies :\", len(np.unique(test_df.movie)))"
      ]
    },
    {
      "attachments": {},
      "cell_type": "markdown",
      "metadata": {
        "id": "5-Pq6njOLkXF"
      },
      "source": [
        "## 2.3 Exploratory Data Analysis on Train data"
      ]
    },
    {
      "cell_type": "code",
      "execution_count": 38,
      "metadata": {
        "execution": {
          "iopub.execute_input": "2021-11-04T16:32:22.458070Z",
          "iopub.status.busy": "2021-11-04T16:32:22.457772Z",
          "iopub.status.idle": "2021-11-04T16:32:22.464611Z",
          "shell.execute_reply": "2021-11-04T16:32:22.463565Z",
          "shell.execute_reply.started": "2021-11-04T16:32:22.458035Z"
        },
        "id": "v4GD91tqLkXG",
        "trusted": true
      },
      "outputs": [],
      "source": [
        "# Method to make y-axis more readable\n",
        "def human(num, units = 'M'):\n",
        "    units = units.lower()\n",
        "    num = float(num)\n",
        "    if units == 'k':\n",
        "        return str(num/10**3) + \" K\"\n",
        "    elif units == 'm':\n",
        "        return str(num/10**6) + \" M\"\n",
        "    elif units == 'b':\n",
        "        return str(num/10**9) +  \" B\"\n",
        "        "
      ]
    },
    {
      "attachments": {},
      "cell_type": "markdown",
      "metadata": {
        "id": "Qkp_Rf_tLkXG"
      },
      "source": [
        "### 2.3.1 Distribution of Ratings\n",
        "- In this plot, we can observe that the most common rating that users give is 4\n",
        "- Also, the second most common rating is 3. & based on these, we can conclude that users tend to give higher ratings."
      ]
    },
    {
      "cell_type": "code",
      "execution_count": null,
      "metadata": {
        "execution": {
          "iopub.execute_input": "2021-11-04T16:32:22.467764Z",
          "iopub.status.busy": "2021-11-04T16:32:22.466950Z",
          "iopub.status.idle": "2021-11-04T16:32:33.456274Z",
          "shell.execute_reply": "2021-11-04T16:32:33.455575Z",
          "shell.execute_reply.started": "2021-11-04T16:32:22.467708Z"
        },
        "id": "128hs0yhLkXG",
        "outputId": "f803086d-5b70-4335-c052-ea7c99a393cc",
        "trusted": true
      },
      "outputs": [
        {
          "data": {
            "image/png": "[encoded data removed]",
            "text/plain": [
              "<Figure size 720x432 with 1 Axes>"
            ]
          },
          "metadata": {},
          "output_type": "display_data"
        }
      ],
      "source": [
        "fig, ax = plt.subplots(figsize = (10, 6))\n",
        "plt.title('Distribution of Ratings over Training Dataset', fontsize=15)\n",
        "sns.countplot(x = train_df.rating)\n",
        "ticks_loc = ax.get_yticks().tolist()\n",
        "ax.yaxis.set_major_locator(mticker.FixedLocator(ticks_loc))\n",
        "ax.set_yticklabels([human(item, 'M') for item in ax.get_yticks()])\n",
        "plt.xlabel('Ratings')\n",
        "plt.ylabel('Number of Ratings')\n",
        "plt.show()\n",
        "\n"
      ]
    },
    {
      "attachments": {},
      "cell_type": "markdown",
      "metadata": {
        "id": "oUlHKWZ9LkXH"
      },
      "source": [
        "### 2.3.2 Number of ratings on each day of the week\n",
        "- In the below plot, we can see that the number of ratings given are greater on days like Monday, Tuesday and Wednesday, and are smaller on days like Friday, Saturday and Sunday.\n",
        "- This may be attributed to the fact that people in US generally perform outdoor activities like trekking, camping, etc, on weekends and/or go in parties."
      ]
    },
    {
      "cell_type": "code",
      "execution_count": null,
      "metadata": {
        "execution": {
          "iopub.execute_input": "2021-11-04T16:32:33.458165Z",
          "iopub.status.busy": "2021-11-04T16:32:33.457666Z",
          "iopub.status.idle": "2021-11-04T16:32:33.463875Z",
          "shell.execute_reply": "2021-11-04T16:32:33.462681Z",
          "shell.execute_reply.started": "2021-11-04T16:32:33.458126Z"
        },
        "id": "Mn0NYjIjLkXH",
        "trusted": true
      },
      "outputs": [],
      "source": [
        "# We will be calculating memory usage,so we will create a function to save some resources.\n",
        "def mem_usage(pandas_obj):\n",
        "    if isinstance(pandas_obj, pd.DataFrame):\n",
        "        usage_b = pandas_obj.memory_usage(deep=True).sum()\n",
        "    # We assume if not a df it's a series\n",
        "    else:\n",
        "        usage_b = pandas_obj.memory_usage(deep=True)\n",
        "        \n",
        "    # Convert bytes to megabytes\n",
        "    usage_mb = usage_b / 1024 ** 2 \n",
        "    return \"{:03.2f} MB\".format(usage_mb)"
      ]
    },
    {
      "cell_type": "code",
      "execution_count": 39,
      "metadata": {
        "execution": {
          "iopub.execute_input": "2021-11-04T16:32:33.465869Z",
          "iopub.status.busy": "2021-11-04T16:32:33.465448Z",
          "iopub.status.idle": "2021-11-04T16:33:05.201781Z",
          "shell.execute_reply": "2021-11-04T16:33:05.200836Z",
          "shell.execute_reply.started": "2021-11-04T16:32:33.465823Z"
        },
        "id": "UBy4kDTPLkXI",
        "outputId": "4b6922c4-fa4b-4351-814a-f401ed6403db",
        "trusted": true
      },
      "outputs": [
        {
          "data": {
            "text/plain": [
              "18"
            ]
          },
          "execution_count": 39,
          "metadata": {},
          "output_type": "execute_result"
        }
      ],
      "source": [
        "# Acquiring the day-name(s) & ratings for analysis.\n",
        "day_names = train_df.date.dt.day_name()\n",
        "ratings = train_df['rating']\n",
        "\n",
        "# Need to clear the RAM in order to run the next few code cells\n",
        "del train_df\n",
        "del test_df\n",
        "gc.collect()"
      ]
    },
    {
      "cell_type": "code",
      "execution_count": null,
      "metadata": {
        "execution": {
          "iopub.execute_input": "2021-11-04T16:33:05.204129Z",
          "iopub.status.busy": "2021-11-04T16:33:05.203277Z",
          "iopub.status.idle": "2021-11-04T16:34:48.340241Z",
          "shell.execute_reply": "2021-11-04T16:34:48.339007Z",
          "shell.execute_reply.started": "2021-11-04T16:33:05.204088Z"
        },
        "id": "61iSXEScLkXI",
        "outputId": "eb5c1638-b8da-4d2e-e1df-3cac8087f174",
        "trusted": true
      },
      "outputs": [
        {
          "data": {
            "image/png": "[encoded data removed]",
            "text/plain": [
              "<Figure size 864x432 with 1 Axes>"
            ]
          },
          "metadata": {},
          "output_type": "display_data"
        }
      ],
      "source": [
        "fig, ax = plt.subplots(figsize = (12, 6))\n",
        "sns.countplot(x=day_names, ax=ax)\n",
        "plt.title('No of ratings on each day')\n",
        "plt.ylabel('Total no of Ratings')\n",
        "plt.xlabel('')\n",
        "ticks_loc = ax.get_yticks().tolist()\n",
        "ax.yaxis.set_major_locator(mticker.FixedLocator(ticks_loc))\n",
        "ax.set_yticklabels([human(item, 'M') for item in ax.get_yticks()])\n",
        "plt.show()\n"
      ]
    },
    {
      "attachments": {},
      "cell_type": "markdown",
      "metadata": {
        "id": "A0M3evcOLkXI"
      },
      "source": [
        "- Now, we try to see if the day of the week is an important feature to predict the ratings.\n",
        "- For that, we plotted the boxplots of the ratings across the 7 days of the week, and we found that the boxplots are more or less overlapping.\n",
        "- In other words, we can say that the day-of-week is not a very useful feature in predicting the ratings. \n",
        "- Just to be a bit more sure, we even calculated the average ratings given by users on each of the days, and we found that, they are more or less the same.\n",
        "- Remember, in Data Science, we perform a lot of experiments and about 90% of them tend of fail. This is why it has the word \"Science\" in it, i.e., we need to perform a lot of experiments."
      ]
    },
    {
      "cell_type": "code",
      "execution_count": null,
      "metadata": {
        "execution": {
          "iopub.execute_input": "2021-11-04T16:34:48.342059Z",
          "iopub.status.busy": "2021-11-04T16:34:48.341792Z",
          "iopub.status.idle": "2021-11-04T16:36:06.081687Z",
          "shell.execute_reply": "2021-11-04T16:36:06.080713Z",
          "shell.execute_reply.started": "2021-11-04T16:34:48.342029Z"
        },
        "id": "nHv5JV9ULkXJ",
        "outputId": "c7e7dce9-b1a8-4ec4-b259-9a8581a78b18",
        "trusted": true
      },
      "outputs": [
        {
          "data": {
            "image/png": "[encoded data removed]",
            "text/plain": [
              "<Figure size 864x432 with 1 Axes>"
            ]
          },
          "metadata": {},
          "output_type": "display_data"
        },
        {
          "name": "stdout",
          "output_type": "stream",
          "text": [
            "0:01:17.733466\n"
          ]
        }
      ],
      "source": [
        "start = datetime.now()\n",
        "fig = plt.figure(figsize = (12, 6))\n",
        "sns.boxplot(y=ratings, x=day_names)\n",
        "plt.show()\n",
        "print(datetime.now() - start)"
      ]
    },
    {
      "cell_type": "code",
      "execution_count": 40,
      "metadata": {
        "execution": {
          "iopub.execute_input": "2021-11-04T16:36:06.084886Z",
          "iopub.status.busy": "2021-11-04T16:36:06.083689Z",
          "iopub.status.idle": "2021-11-04T16:36:08.586057Z",
          "shell.execute_reply": "2021-11-04T16:36:08.585292Z",
          "shell.execute_reply.started": "2021-11-04T16:36:06.084836Z"
        },
        "id": "xgjNAkR-LkXJ",
        "trusted": true
      },
      "outputs": [],
      "source": [
        "data = {\n",
        "    'day_of_week': day_names,\n",
        "    'rating': ratings\n",
        "}\n",
        "\n",
        "del day_names\n",
        "del ratings\n",
        "gc.collect()\n",
        "\n",
        "temp_df = pd.DataFrame(data)\n",
        "del data"
      ]
    },
    {
      "cell_type": "code",
      "execution_count": 41,
      "metadata": {
        "execution": {
          "iopub.execute_input": "2021-11-04T16:36:08.587791Z",
          "iopub.status.busy": "2021-11-04T16:36:08.587473Z",
          "iopub.status.idle": "2021-11-04T16:36:18.345181Z",
          "shell.execute_reply": "2021-11-04T16:36:18.344021Z",
          "shell.execute_reply.started": "2021-11-04T16:36:08.587753Z"
        },
        "id": "ZYcPlPZELkXK",
        "outputId": "9b9f09f1-1f17-4c56-e8e3-bd60487e5c64",
        "trusted": true
      },
      "outputs": [
        {
          "name": "stdout",
          "output_type": "stream",
          "text": [
            "Average Ratings\n",
            "------------------------------\n",
            "day_of_week\n",
            "Friday       3.585274\n",
            "Monday       3.577250\n",
            "Saturday     3.591791\n",
            "Sunday       3.594144\n",
            "Thursday     3.582463\n",
            "Tuesday      3.574438\n",
            "Wednesday    3.583751\n",
            "Name: rating, dtype: float64\n",
            "\n",
            "\n"
          ]
        }
      ],
      "source": [
        "avg_week_df = temp_df.groupby(by=['day_of_week'])['rating'].mean()\n",
        "print(\"Average Ratings\")\n",
        "print(\"-\"*30)\n",
        "print(avg_week_df)\n",
        "print(\"\\n\")"
      ]
    },
    {
      "cell_type": "code",
      "execution_count": 42,
      "metadata": {
        "execution": {
          "iopub.execute_input": "2021-11-04T16:36:18.346812Z",
          "iopub.status.busy": "2021-11-04T16:36:18.346544Z",
          "iopub.status.idle": "2021-11-04T16:37:39.786877Z",
          "shell.execute_reply": "2021-11-04T16:37:39.785765Z",
          "shell.execute_reply.started": "2021-11-04T16:36:18.346778Z"
        },
        "id": "GrW403xtLkXK",
        "trusted": true
      },
      "outputs": [],
      "source": [
        "# Removing the list from the RAM\n",
        "del temp_df\n",
        "gc.collect()\n",
        "\n",
        "# Reloading the test and train dataframes in the RAM\n",
        "train_df = pd.read_csv(\"train.csv\", parse_dates = ['date'])\n",
        "test_df = pd.read_csv(\"test.csv\")"
      ]
    },
    {
      "attachments": {},
      "cell_type": "markdown",
      "metadata": {
        "id": "VUq8eJzELkXK"
      },
      "source": [
        "### 2.3.3 Number of Ratings/Month\n",
        "- In this plot, we can observe that we have data ranging from mid 1999 to mid 2005.\n",
        "- And we can see, that the number of ratings that we have, increases sharply from around 2003. This is an indication of the growth of Netflix as a company itself.\n",
        "- And since, we have taken the latest 20% of the ratings in the test data, we can conclude that the test data would be spanning over a very short window of time."
      ]
    },
    {
      "cell_type": "code",
      "execution_count": 43,
      "metadata": {
        "execution": {
          "iopub.execute_input": "2021-11-04T16:37:39.789023Z",
          "iopub.status.busy": "2021-11-04T16:37:39.788536Z",
          "iopub.status.idle": "2021-11-04T16:37:42.173696Z",
          "shell.execute_reply": "2021-11-04T16:37:42.172683Z",
          "shell.execute_reply.started": "2021-11-04T16:37:39.788969Z"
        },
        "id": "eRbtBx_GLkXL",
        "outputId": "0a3c7706-f65e-4d12-8d34-eaaa59da5d7d",
        "trusted": true
      },
      "outputs": [
        {
          "data": {
            "image/png": "[encoded data removed]",
            "text/plain": [
              "<Figure size 720x432 with 1 Axes>"
            ]
          },
          "metadata": {},
          "output_type": "display_data"
        }
      ],
      "source": [
        "plt.figure(figsize = (10, 6))\n",
        "ax = train_df.resample('m', on='date')['rating'].count().plot()\n",
        "ax.set_title('No of Ratings/Month (Training data)')\n",
        "plt.xlabel('Month')\n",
        "plt.ylabel('No of Ratings/Month')\n",
        "ticks_loc = ax.get_yticks().tolist()\n",
        "ax.yaxis.set_major_locator(mticker.FixedLocator(ticks_loc))\n",
        "ax.set_yticklabels([human(item, 'M') for item in ticks_loc])\n",
        "plt.show()"
      ]
    },
    {
      "attachments": {},
      "cell_type": "markdown",
      "metadata": {
        "id": "NZhQDLxWLkXL"
      },
      "source": [
        "### 2.3.4 Analysis on the Ratings given by user\n",
        "- From the below code cell, we can observe that the maximum number of movies rated by a single user as per our dataset is **17112**, which is pretty huge. So, we got a bit curious, and tried to inspect it a bit more!"
      ]
    },
    {
      "cell_type": "code",
      "execution_count": 44,
      "metadata": {
        "execution": {
          "iopub.execute_input": "2021-11-04T16:37:42.175229Z",
          "iopub.status.busy": "2021-11-04T16:37:42.174968Z",
          "iopub.status.idle": "2021-11-04T16:37:47.216245Z",
          "shell.execute_reply": "2021-11-04T16:37:47.215305Z",
          "shell.execute_reply.started": "2021-11-04T16:37:42.175187Z"
        },
        "id": "rQsgMNWhLkXL",
        "outputId": "a2ca6b17-95c8-4439-b85e-ba44aa94fc1a",
        "trusted": true
      },
      "outputs": [
        {
          "data": {
            "text/plain": [
              "user\n",
              "305344     17112\n",
              "2439493    15896\n",
              "387418     15402\n",
              "1639792     9767\n",
              "1461435     9447\n",
              "Name: rating, dtype: int64"
            ]
          },
          "execution_count": 44,
          "metadata": {},
          "output_type": "execute_result"
        }
      ],
      "source": [
        "no_of_rated_movies_per_user = train_df.groupby(by = 'user')['rating'].count().sort_values(ascending=False)\n",
        "no_of_rated_movies_per_user.head()"
      ]
    },
    {
      "cell_type": "code",
      "execution_count": 45,
      "metadata": {
        "execution": {
          "iopub.execute_input": "2021-11-04T16:37:47.218476Z",
          "iopub.status.busy": "2021-11-04T16:37:47.217714Z",
          "iopub.status.idle": "2021-11-04T16:37:53.785102Z",
          "shell.execute_reply": "2021-11-04T16:37:53.784001Z",
          "shell.execute_reply.started": "2021-11-04T16:37:47.218436Z"
        },
        "id": "chiCxmAZLkXM",
        "outputId": "7d040a19-c1d0-4e26-80e3-8ad3579cb833",
        "trusted": true
      },
      "outputs": [
        {
          "data": {
            "image/png": "[encoded data removed]",
            "text/plain": [
              "<Figure size 792x360 with 2 Axes>"
            ]
          },
          "metadata": {},
          "output_type": "display_data"
        }
      ],
      "source": [
        "fig = plt.figure(figsize= (11, 5))\n",
        "\n",
        "ax1 = plt.subplot(121)\n",
        "sns.kdeplot(no_of_rated_movies_per_user, shade=True, ax=ax1)\n",
        "plt.xlabel('No of ratings by user')\n",
        "plt.title(\"PDF\")\n",
        "\n",
        "ax2 = plt.subplot(122)\n",
        "sns.kdeplot(no_of_rated_movies_per_user, shade=True, cumulative=True,ax=ax2)\n",
        "plt.xlabel('No of ratings by user')\n",
        "plt.title('CDF')\n",
        "\n",
        "plt.show()"
      ]
    },
    {
      "cell_type": "code",
      "execution_count": 46,
      "metadata": {
        "execution": {
          "iopub.execute_input": "2021-11-04T16:37:53.787161Z",
          "iopub.status.busy": "2021-11-04T16:37:53.786786Z",
          "iopub.status.idle": "2021-11-04T16:37:53.819948Z",
          "shell.execute_reply": "2021-11-04T16:37:53.818990Z",
          "shell.execute_reply.started": "2021-11-04T16:37:53.787110Z"
        },
        "id": "WEaCuM1GLkXM",
        "outputId": "44cb8779-8352-46c3-f450-bb570bdbbad9",
        "trusted": true
      },
      "outputs": [
        {
          "data": {
            "text/plain": [
              "count    405041.000000\n",
              "mean        198.459921\n",
              "std         290.793238\n",
              "min           1.000000\n",
              "25%          34.000000\n",
              "50%          89.000000\n",
              "75%         245.000000\n",
              "max       17112.000000\n",
              "Name: rating, dtype: float64"
            ]
          },
          "execution_count": 46,
          "metadata": {},
          "output_type": "execute_result"
        }
      ],
      "source": [
        "no_of_rated_movies_per_user.describe()"
      ]
    },
    {
      "attachments": {},
      "cell_type": "markdown",
      "metadata": {
        "id": "FKgJLffdLkXM"
      },
      "source": [
        "- There is something interesting going on with the quantiles here, as we can see from the above numbers. \n",
        "- We observed that there was a huge upsurge from the 75% quantile range to the 100% quantile range. So, we tried to visualize this particular range. "
      ]
    },
    {
      "cell_type": "code",
      "execution_count": 47,
      "metadata": {
        "execution": {
          "iopub.execute_input": "2021-11-04T16:37:53.822079Z",
          "iopub.status.busy": "2021-11-04T16:37:53.821567Z",
          "iopub.status.idle": "2021-11-04T16:37:53.851763Z",
          "shell.execute_reply": "2021-11-04T16:37:53.850912Z",
          "shell.execute_reply.started": "2021-11-04T16:37:53.822041Z"
        },
        "id": "DAuTsS-mLkXN",
        "trusted": true
      },
      "outputs": [],
      "source": [
        "quantiles = no_of_rated_movies_per_user.quantile(np.arange(0,1.01,0.01), interpolation='higher')"
      ]
    },
    {
      "cell_type": "code",
      "execution_count": 48,
      "metadata": {
        "execution": {
          "iopub.execute_input": "2021-11-04T16:37:53.854389Z",
          "iopub.status.busy": "2021-11-04T16:37:53.853809Z",
          "iopub.status.idle": "2021-11-04T16:37:54.281170Z",
          "shell.execute_reply": "2021-11-04T16:37:54.280061Z",
          "shell.execute_reply.started": "2021-11-04T16:37:53.854339Z"
        },
        "id": "xgXgqprxLkXN",
        "outputId": "cd2b55ef-0063-41e6-ce6e-9e4d8d212898",
        "trusted": true
      },
      "outputs": [
        {
          "data": {
            "image/png": "[encoded data removed]",
            "text/plain": [
              "<Figure size 864x432 with 1 Axes>"
            ]
          },
          "metadata": {},
          "output_type": "display_data"
        }
      ],
      "source": [
        "plt.figure(figsize = (12, 6))\n",
        "plt.title(\"Quantiles and their Values\")\n",
        "quantiles.plot()\n",
        "\n",
        "# Quantiles with 0.05 difference\n",
        "plt.scatter(x=quantiles.index[::5], y=quantiles.values[::5], c='orange', \n",
        "    label=\"Quantiles with 0.05 intervals\")\n",
        "\n",
        "# Quantiles with 0.25 difference\n",
        "plt.scatter(x=quantiles.index[::25], y=quantiles.values[::25], c='m', \n",
        "    label=\"Quantiles with 0.25 intervals\")\n",
        "\n",
        "plt.ylabel('No of ratings by user')\n",
        "plt.xlabel('Value at the quantile')\n",
        "plt.legend(loc='best')\n",
        "\n",
        "# Annotate the 25th, 50th, 75th and 100th percentile values\n",
        "for x,y in zip(quantiles.index[::25], quantiles[::25]):\n",
        "    plt.annotate(text=\"({} , {})\".format(x,y), xy=(x,y), xytext=(x-0.05, y+500), fontweight='bold')\n",
        "\n",
        "plt.show()"
      ]
    },
    {
      "cell_type": "code",
      "execution_count": 49,
      "metadata": {
        "execution": {
          "iopub.execute_input": "2021-11-04T16:37:54.282827Z",
          "iopub.status.busy": "2021-11-04T16:37:54.282579Z",
          "iopub.status.idle": "2021-11-04T16:37:54.350612Z",
          "shell.execute_reply": "2021-11-04T16:37:54.349820Z",
          "shell.execute_reply.started": "2021-11-04T16:37:54.282798Z"
        },
        "id": "gMVlVHPdLkXO",
        "outputId": "38e46d6d-f893-46ee-bcd3-31ff0bcb0dfd",
        "scrolled": true,
        "trusted": true
      },
      "outputs": [
        {
          "name": "stdout",
          "output_type": "stream",
          "text": [
            "0.00        1\n",
            "0.05        7\n",
            "0.10       15\n",
            "0.15       21\n",
            "0.20       27\n",
            "0.25       34\n",
            "0.30       41\n",
            "0.35       50\n",
            "0.40       60\n",
            "0.45       73\n",
            "0.50       89\n",
            "0.55      109\n",
            "0.60      133\n",
            "0.65      163\n",
            "0.70      199\n",
            "0.75      245\n",
            "0.80      307\n",
            "0.85      392\n",
            "0.90      520\n",
            "0.95      749\n",
            "1.00    17112\n",
            "Name: rating, dtype: int64\n",
            "\n",
            "No of ratings at last 5 percentile : 20305\n",
            "\n"
          ]
        }
      ],
      "source": [
        "# Printing the Quantile values  \n",
        "print(quantiles[::5])\n",
        "print('\\nNo of ratings at last 5 percentile : {}\\n'.format(sum(no_of_rated_movies_per_user>= 749)))\n",
        "\n",
        "# From the below numbers, we can see that 5% of our users, have rated more than 749 movies\n",
        "# And this is a pretty huge number. We will leverage this and other similar kind of conclusions\n",
        "# while performing feature engineering. "
      ]
    },
    {
      "attachments": {},
      "cell_type": "markdown",
      "metadata": {
        "id": "FR8msR2XLkXO"
      },
      "source": [
        "### 2.3.5 Analysis of ratings of a movie given by a user"
      ]
    },
    {
      "cell_type": "code",
      "execution_count": 50,
      "metadata": {
        "execution": {
          "iopub.execute_input": "2021-11-04T16:37:54.352520Z",
          "iopub.status.busy": "2021-11-04T16:37:54.351981Z",
          "iopub.status.idle": "2021-11-04T16:37:57.042053Z",
          "shell.execute_reply": "2021-11-04T16:37:57.040773Z",
          "shell.execute_reply.started": "2021-11-04T16:37:54.352464Z"
        },
        "id": "uSgggUBjLkXO",
        "outputId": "85d306e8-d072-4f6a-c2b8-b5a4d18200e2",
        "trusted": true
      },
      "outputs": [
        {
          "data": {
            "image/png": "[encoded data removed]",
            "text/plain": [
              "<Figure size 864x432 with 1 Axes>"
            ]
          },
          "metadata": {},
          "output_type": "display_data"
        }
      ],
      "source": [
        "no_of_ratings_per_movie = train_df.groupby(by='movie')['rating'].count().sort_values(ascending=False)\n",
        "\n",
        "fig = plt.figure(figsize = (12, 6))\n",
        "ax = plt.gca()\n",
        "plt.plot(no_of_ratings_per_movie.values)\n",
        "plt.title('# Ratings/Movie')\n",
        "plt.xlabel('Movie')\n",
        "plt.ylabel('No of Users who rated a movie')\n",
        "ax.set_xticklabels([])\n",
        "\n",
        "plt.show()"
      ]
    },
    {
      "attachments": {},
      "cell_type": "markdown",
      "metadata": {
        "id": "VgP3hsw0LkXP"
      },
      "source": [
        "- It is very skewed, just like the number of ratings given per user.\n",
        "- There are some movies (which are very popular) which are rated by huge number of users.\n",
        "- But most of the movies(like 90%) got some hundreds of ratings only."
      ]
    },
    {
      "attachments": {},
      "cell_type": "markdown",
      "metadata": {
        "id": "1HLSwu9NLkXP"
      },
      "source": [
        "### 2.3.6 Creating Sparse matrix from Data Frame\n"
      ]
    },
    {
      "attachments": {},
      "cell_type": "markdown",
      "metadata": {
        "id": "5ACwjICALkXP"
      },
      "source": [
        "#### 2.3.6.1 Creating sparse matrix from train data frame\n",
        "- In the below code cells, we can see that the sparsity of the training dataset is around 99.82%, which means that only about 0.18% of the cells in the training dataset are filled."
      ]
    },
    {
      "cell_type": "code",
      "execution_count": 51,
      "metadata": {
        "execution": {
          "iopub.execute_input": "2021-11-04T16:37:57.044156Z",
          "iopub.status.busy": "2021-11-04T16:37:57.043666Z",
          "iopub.status.idle": "2021-11-04T16:38:05.918435Z",
          "shell.execute_reply": "2021-11-04T16:38:05.916745Z",
          "shell.execute_reply.started": "2021-11-04T16:37:57.044112Z"
        },
        "id": "Hq1_6Ws5LkXQ",
        "outputId": "23caf9ac-2e75-4f1b-86b8-4a5d37876057",
        "trusted": true
      },
      "outputs": [
        {
          "name": "stdout",
          "output_type": "stream",
          "text": [
            "We are creating sparse_matrix from the dataframe!\n",
            "Done. It's shape is : (user, movie) :  (2649430, 17771)\n",
            "Saving it into disk for furthur usage!\n",
            "Done\n",
            "\n",
            "0:01:08.603363\n"
          ]
        }
      ],
      "source": [
        "start = datetime.now()\n",
        "if os.path.isfile('./train_sparse_matrix.npz'):\n",
        "    print(\"It is present in your pwd, getting it from the disk!\")\n",
        "    train_sparse_matrix = sparse.load_npz('train_sparse_matrix.npz')\n",
        "    print(\"Done\")\n",
        "else: \n",
        "    print(\"We are creating sparse_matrix from the dataframe!\")\n",
        "    # Create sparse_matrix and store it for after usage.\n",
        "    # csr_matrix(data_values, (row_index, col_index), shape_of_matrix)\n",
        "    # It should be in such a way that, MATRIX[row, col] = data\n",
        "    train_sparse_matrix = sparse.csr_matrix((\n",
        "        train_df.rating.values, (train_df.user.values,train_df.movie.values)\n",
        "    ))\n",
        "    \n",
        "    print('Done. It\\'s shape is : (user, movie) : ',train_sparse_matrix.shape)\n",
        "    print('Saving it into disk for furthur usage!')\n",
        "    sparse.save_npz(\"train_sparse_matrix.npz\", train_sparse_matrix)\n",
        "    print('Done\\n')\n",
        "print(datetime.now() - start)\n",
        "\n"
      ]
    },
    {
      "cell_type": "code",
      "execution_count": 52,
      "metadata": {
        "execution": {
          "iopub.execute_input": "2021-11-04T16:38:05.923093Z",
          "iopub.status.busy": "2021-11-04T16:38:05.921859Z",
          "iopub.status.idle": "2021-11-04T16:38:06.279267Z",
          "shell.execute_reply": "2021-11-04T16:38:06.278227Z",
          "shell.execute_reply.started": "2021-11-04T16:38:05.922971Z"
        },
        "id": "ovGqqzOzLkXQ",
        "outputId": "5babea18-8cd2-4f42-d7ba-69d841534274",
        "trusted": true
      },
      "outputs": [
        {
          "name": "stdout",
          "output_type": "stream",
          "text": [
            "Sparsity of Train Matrix: 99.8292709259195 % \n"
          ]
        }
      ],
      "source": [
        "# The Sparsity of Train Sparse Matrix\n",
        "us,mv = train_sparse_matrix.shape\n",
        "elem = train_sparse_matrix.count_nonzero()\n",
        "print(\"Sparsity of Train Matrix: {} % \".format(  (1-(elem/(us*mv))) * 100) )\n",
        "user,movie =train_sparse_matrix.shape"
      ]
    },
    {
      "attachments": {},
      "cell_type": "markdown",
      "metadata": {
        "id": "GgbqRtfgLkXR"
      },
      "source": [
        "#### 2.3.6.2 Creating sparse matrix from test data frame\n",
        "- In the below code cells, we can see that the sparsity of the test dataset is around 99.95%, which means that only about 0.05% of the cells in the test dataset are filled."
      ]
    },
    {
      "cell_type": "code",
      "execution_count": 53,
      "metadata": {
        "execution": {
          "iopub.execute_input": "2021-11-04T16:38:06.280944Z",
          "iopub.status.busy": "2021-11-04T16:38:06.280689Z",
          "iopub.status.idle": "2021-11-04T16:38:08.033525Z",
          "shell.execute_reply": "2021-11-04T16:38:08.031112Z",
          "shell.execute_reply.started": "2021-11-04T16:38:06.280914Z"
        },
        "id": "h_jArG-YLkXR",
        "outputId": "a957f8aa-98a3-4803-8050-78ca8fc9cf41",
        "trusted": true
      },
      "outputs": [
        {
          "name": "stdout",
          "output_type": "stream",
          "text": [
            "We are creating sparse_matrix from the dataframe!\n",
            "Done. It's shape is : (user, movie) :  (2649430, 17771)\n",
            "Saving it into disk for furthur usage!\n",
            "Done\n",
            "\n",
            "0:00:17.726128\n"
          ]
        }
      ],
      "source": [
        "start = datetime.now()\n",
        "if os.path.isfile('./test_sparse_matrix.npz'):\n",
        "    print(\"It is present in your pwd, getting it from disk!\")\n",
        "    test_sparse_matrix = sparse.load_npz('test_sparse_matrix.npz')\n",
        "    print(\"Done\")\n",
        "else: \n",
        "    print(\"We are creating sparse_matrix from the dataframe!\")\n",
        "    # Create sparse_matrix and store it for after usage.\n",
        "    # csr_matrix(data_values, (row_index, col_index), shape_of_matrix)\n",
        "    # It should be in such a way that, MATRIX[row, col] = data\n",
        "    test_sparse_matrix = sparse.csr_matrix(\n",
        "        (test_df.rating.values, (test_df.user.values, test_df.movie.values))\n",
        "    )\n",
        "    \n",
        "    print('Done. It\\'s shape is : (user, movie) : ',test_sparse_matrix.shape)\n",
        "    print('Saving it into disk for furthur usage!')\n",
        "    sparse.save_npz(\"test_sparse_matrix.npz\", test_sparse_matrix)\n",
        "    print('Done\\n')\n",
        "print(datetime.now() - start)"
      ]
    },
    {
      "cell_type": "code",
      "execution_count": 54,
      "metadata": {
        "execution": {
          "iopub.execute_input": "2021-11-04T16:38:08.036352Z",
          "iopub.status.busy": "2021-11-04T16:38:08.035375Z",
          "iopub.status.idle": "2021-11-04T16:38:08.120869Z",
          "shell.execute_reply": "2021-11-04T16:38:08.119679Z",
          "shell.execute_reply.started": "2021-11-04T16:38:08.036275Z"
        },
        "id": "Jq9kQzh0LkXS",
        "outputId": "596f9183-9257-4d95-f37c-640c757ba3b8",
        "trusted": true
      },
      "outputs": [
        {
          "name": "stdout",
          "output_type": "stream",
          "text": [
            "Sparsity of Test Matrix : 99.95731772988694 % \n"
          ]
        }
      ],
      "source": [
        "# The Sparsity of Test data Matrix\n",
        "us,mv = test_sparse_matrix.shape\n",
        "elem = test_sparse_matrix.count_nonzero()\n",
        "print(\"Sparsity of Test Matrix : {} % \".format(  (1-(elem/(us*mv))) * 100) )"
      ]
    },
    {
      "attachments": {},
      "cell_type": "markdown",
      "metadata": {
        "id": "iH6LqMMVLkXS"
      },
      "source": [
        "### 2.3.7 Finding Global average of all movie ratings, Average rating per user, & Average rating per movie"
      ]
    },
    {
      "cell_type": "code",
      "execution_count": 17,
      "metadata": {
        "execution": {
          "iopub.execute_input": "2021-11-04T16:38:08.122848Z",
          "iopub.status.busy": "2021-11-04T16:38:08.122538Z",
          "iopub.status.idle": "2021-11-04T16:38:08.130955Z",
          "shell.execute_reply": "2021-11-04T16:38:08.130083Z",
          "shell.execute_reply.started": "2021-11-04T16:38:08.122806Z"
        },
        "id": "E4mLxVUNLkXS",
        "trusted": true
      },
      "outputs": [],
      "source": [
        "# Get the user averages in dictionary (key: user_id/movie_id, value: avg rating)\n",
        "def get_average_ratings(sparse_matrix, of_users):\n",
        "    # Average ratings of user/movies\n",
        "    ax = 1 if of_users else 0 # 1 - User axes,0 - Movie axes\n",
        "    # \".A1\" is for converting Row_Matrix to 1-D numpy array \n",
        "    sum_of_ratings = sparse_matrix.sum(axis=ax).A1\n",
        "    # Boolean matrix of ratings (whether a user rated that movie or not)\n",
        "    is_rated = (sparse_matrix != 0)\n",
        "    # No of ratings for each user/movie\n",
        "    no_of_ratings = is_rated.sum(axis=ax).A1\n",
        "    # max_user and max_movie ids in sparse matrix \n",
        "    u, m = sparse_matrix.shape\n",
        "    # Create a dictonary of users and their average ratings\n",
        "    average_ratings = {i : sum_of_ratings[i] / no_of_ratings[i]\n",
        "         for i in range(u if of_users else m) if no_of_ratings[i] != 0}\n",
        "\n",
        "    # Return that dictionary of average ratings\n",
        "    return average_ratings"
      ]
    },
    {
      "attachments": {},
      "cell_type": "markdown",
      "metadata": {
        "id": "RQJ96fzzLkXT"
      },
      "source": [
        "#### 2.3.7.1 Finding global average of all the ratings"
      ]
    },
    {
      "cell_type": "code",
      "execution_count": 59,
      "metadata": {
        "execution": {
          "iopub.execute_input": "2021-11-04T16:38:08.132917Z",
          "iopub.status.busy": "2021-11-04T16:38:08.132474Z",
          "iopub.status.idle": "2021-11-04T16:38:08.562363Z",
          "shell.execute_reply": "2021-11-04T16:38:08.561449Z",
          "shell.execute_reply.started": "2021-11-04T16:38:08.132870Z"
        },
        "id": "W8T9gsjxLkXT",
        "outputId": "b228377a-63d3-4ac3-db5e-ca8c8014c322",
        "trusted": true
      },
      "outputs": [
        {
          "name": "stdout",
          "output_type": "stream",
          "text": [
            "{'global': 3.582890686321557}\n"
          ]
        }
      ],
      "source": [
        "train_averages = dict()\n",
        "train_global_average = train_sparse_matrix.sum()/train_sparse_matrix.count_nonzero()\n",
        "train_averages['global'] = train_global_average\n",
        "print(train_averages)"
      ]
    },
    {
      "attachments": {},
      "cell_type": "markdown",
      "metadata": {
        "id": "iTSr7D99LkXU"
      },
      "source": [
        "#### 3.3.7.2 Finding average rating/user"
      ]
    },
    {
      "cell_type": "code",
      "execution_count": 60,
      "metadata": {
        "execution": {
          "iopub.execute_input": "2021-11-04T16:38:08.564019Z",
          "iopub.status.busy": "2021-11-04T16:38:08.563752Z",
          "iopub.status.idle": "2021-11-04T16:38:12.233910Z",
          "shell.execute_reply": "2021-11-04T16:38:12.232702Z",
          "shell.execute_reply.started": "2021-11-04T16:38:08.563987Z"
        },
        "id": "ZAlnK4H3LkXU",
        "outputId": "6cf6f757-3730-42dd-b00a-bd194f88faa8",
        "trusted": true
      },
      "outputs": [
        {
          "name": "stdout",
          "output_type": "stream",
          "text": [
            "\n",
            "Average rating of user 10: 3.3781094527363185\n"
          ]
        }
      ],
      "source": [
        "train_averages['user'] = get_average_ratings(train_sparse_matrix, of_users=True)\n",
        "print('\\nAverage rating of user 10:',train_averages['user'][10])"
      ]
    },
    {
      "attachments": {},
      "cell_type": "markdown",
      "metadata": {
        "id": "xcAv-dd-LkXU"
      },
      "source": [
        "#### 2.3.7.3 Finding average rating/movie"
      ]
    },
    {
      "cell_type": "code",
      "execution_count": 61,
      "metadata": {
        "execution": {
          "iopub.execute_input": "2021-11-04T16:38:12.236111Z",
          "iopub.status.busy": "2021-11-04T16:38:12.235849Z",
          "iopub.status.idle": "2021-11-04T16:38:13.391679Z",
          "shell.execute_reply": "2021-11-04T16:38:13.390515Z",
          "shell.execute_reply.started": "2021-11-04T16:38:12.236073Z"
        },
        "id": "bYO_I7oALkXU",
        "outputId": "61b538ac-2e62-4e56-b7b5-caafc3281e0c",
        "trusted": true
      },
      "outputs": [
        {
          "name": "stdout",
          "output_type": "stream",
          "text": [
            "\n",
            " Average rating of movie 15: 3.3038461538461537\n"
          ]
        }
      ],
      "source": [
        "train_averages['movie'] =  get_average_ratings(train_sparse_matrix, of_users=False)\n",
        "print('\\n Average rating of movie 15:',train_averages['movie'][15])"
      ]
    },
    {
      "attachments": {},
      "cell_type": "markdown",
      "metadata": {
        "id": "xyC6XMqMLkXV"
      },
      "source": [
        "#### 2.3.7.4 PDF's & CDF's of Avg.Ratings of Users & Movies (In Train Data)\n",
        "- Since the average ratings of users are in the form of a vector, and since the average ratings of movies are in the form of a vector, hence, we have tried to plot the PDF and CDF for both of them, to get a better sense of them."
      ]
    },
    {
      "cell_type": "code",
      "execution_count": null,
      "metadata": {
        "execution": {
          "iopub.execute_input": "2021-11-04T16:38:13.393885Z",
          "iopub.status.busy": "2021-11-04T16:38:13.393611Z",
          "iopub.status.idle": "2021-11-04T16:38:21.545907Z",
          "shell.execute_reply": "2021-11-04T16:38:21.544754Z",
          "shell.execute_reply.started": "2021-11-04T16:38:13.393851Z"
        },
        "id": "OMCueUlfLkXV",
        "outputId": "1f42c330-78d3-43c3-b9a4-16169911d8b5",
        "trusted": true
      },
      "outputs": [
        {
          "data": {
            "image/png": "[encoded data removed]",
            "text/plain": [
              "<Figure size 864x432 with 2 Axes>"
            ]
          },
          "metadata": {},
          "output_type": "display_data"
        },
        {
          "name": "stdout",
          "output_type": "stream",
          "text": [
            "0:00:08.141480\n"
          ]
        }
      ],
      "source": [
        "start = datetime.now()\n",
        "\n",
        "# Draw PDfs for average rating per user and average\n",
        "fig, (ax1, ax2) = plt.subplots(nrows=1, ncols=2, figsize=(12, 6))\n",
        "fig.suptitle('Avg Ratings per User and per Movie', fontsize=15)\n",
        "\n",
        "# Get the list of average user ratings from the averages dictionary\n",
        "ax1.set_title('Users-Avg-Ratings')\n",
        "user_averages = [rat for rat in train_averages['user'].values()]\n",
        "sns.kdeplot(user_averages, ax=ax1, cumulative=True, label='CDF')\n",
        "sns.kdeplot(user_averages, ax=ax1, label='PDF')\n",
        "\n",
        "# Get the list of movie_average_ratings from the dictionary\n",
        "ax2.set_title('Movies-Avg-Rating')\n",
        "movie_averages = [rat for rat in train_averages['movie'].values()]\n",
        "sns.kdeplot(movie_averages, ax=ax2, cumulative=True, label='CDF')\n",
        "sns.kdeplot(movie_averages, ax=ax2, label='PDF')\n",
        "\n",
        "plt.show()\n",
        "print(datetime.now() - start)"
      ]
    },
    {
      "attachments": {},
      "cell_type": "markdown",
      "metadata": {
        "id": "HthQbcStLkXW"
      },
      "source": [
        "### 2.3.8 Cold Start problem\n",
        "- **Cold Start problem** is something that could seriously hamper our recommendation system. It basically refers to the issue when we encounter new users/movies in our test set, corresponding to which, we don't have the ratings in our training set.\n",
        "\n",
        "<br>\n",
        "\n",
        "#### 2.3.8.1 Cold Start problem with Users\n",
        "- We might have to handle **75148 new users** who didn't appear in train data.\n",
        "- We might have to handle **346 new movies** (smaller comparatively) in test data."
      ]
    },
    {
      "cell_type": "code",
      "execution_count": 64,
      "metadata": {
        "execution": {
          "iopub.execute_input": "2021-11-04T16:38:21.548484Z",
          "iopub.status.busy": "2021-11-04T16:38:21.548094Z",
          "iopub.status.idle": "2021-11-04T16:38:21.559683Z",
          "shell.execute_reply": "2021-11-04T16:38:21.558863Z",
          "shell.execute_reply.started": "2021-11-04T16:38:21.548438Z"
        },
        "id": "h0rZq4xLLkXW",
        "outputId": "438f424f-fc6c-4d72-e518-c29c615e6ce2",
        "trusted": true
      },
      "outputs": [
        {
          "name": "stdout",
          "output_type": "stream",
          "text": [
            "\n",
            "Total number of Users: 480189\n",
            "Number of Users in Train data: 405041\n",
            "Number of Users that didn't appear in train data: 75148 (15.65 %) \n",
            " \n",
            "\n",
            "Total number of Movies  : 17770\n",
            "Number of Users in Train data : 17424\n",
            "Number of Movies that didn't appear in train data: 346 (1.95 %)\n"
          ]
        }
      ],
      "source": [
        "users_train = len(train_averages['user'])\n",
        "new_users = total_users - users_train\n",
        "\n",
        "print('\\nTotal number of Users:', total_users)\n",
        "print('Number of Users in Train data:', users_train)\n",
        "print(\"Number of Users that didn't appear in train data: {} ({} %) \\n \".format(new_users,\n",
        "    np.round((new_users/total_users)*100, 2)))\n",
        "\n",
        "movies_train = len(train_averages['movie'])\n",
        "new_movies = total_movies - movies_train\n",
        "\n",
        "print('\\nTotal number of Movies  :', total_movies)\n",
        "print('Number of Users in Train data :', movies_train)\n",
        "print(\"Number of Movies that didn't appear in train data: {} ({} %)\".format(new_movies,\n",
        "    np.round((new_movies/total_movies)*100, 2)))"
      ]
    },
    {
      "cell_type": "code",
      "execution_count": 65,
      "metadata": {
        "execution": {
          "iopub.execute_input": "2021-11-04T16:38:21.571978Z",
          "iopub.status.busy": "2021-11-04T16:38:21.570977Z",
          "iopub.status.idle": "2021-11-04T16:38:22.042483Z",
          "shell.execute_reply": "2021-11-04T16:38:22.041475Z",
          "shell.execute_reply.started": "2021-11-04T16:38:21.571923Z"
        },
        "id": "gi88f_RVLkXX",
        "outputId": "0b1b2507-7a29-4ef2-fa0f-bf0fcbc614ab",
        "trusted": true
      },
      "outputs": [
        {
          "data": {
            "text/plain": [
              "0"
            ]
          },
          "execution_count": 65,
          "metadata": {},
          "output_type": "execute_result"
        }
      ],
      "source": [
        "# Need to clear the RAM in order to run the next few code cells\n",
        "del train_df\n",
        "del test_df\n",
        "gc.collect()"
      ]
    },
    {
      "attachments": {},
      "cell_type": "markdown",
      "metadata": {
        "id": "ttSluZFiLkXX"
      },
      "source": [
        "## 2.4 Computing Similarity matrices\n",
        "### 2.4.1 Computing User-User Similarity matrix\n",
        "\n",
        "\n",
        "#### 2.4.1.1 Trying with all dimensions (17k dimensions per user) "
      ]
    },
    {
      "cell_type": "code",
      "execution_count": 66,
      "metadata": {
        "execution": {
          "iopub.execute_input": "2021-11-04T16:38:22.045267Z",
          "iopub.status.busy": "2021-11-04T16:38:22.044556Z",
          "iopub.status.idle": "2021-11-04T16:38:22.062481Z",
          "shell.execute_reply": "2021-11-04T16:38:22.061720Z",
          "shell.execute_reply.started": "2021-11-04T16:38:22.045196Z"
        },
        "id": "6Nyk2KpALkXX",
        "trusted": true
      },
      "outputs": [],
      "source": [
        "def compute_user_similarity(sparse_matrix, compute_for_few=False, top = 100, verbose=False, \n",
        "    verb_for_n_rows = 20, draw_time_taken=True):\n",
        "    no_of_users, _ = sparse_matrix.shape\n",
        "    # Get the indices of  non-zero rows (users) from our sparse matrix\n",
        "    row_ind, col_ind = sparse_matrix.nonzero()\n",
        "    # Sorting is not necessary\n",
        "    row_ind = sorted(set(row_ind))\n",
        "    # Time taken for finding similar users for an user\n",
        "    time_taken = list() \n",
        "    \n",
        "    # We create rows, cols, and data lists, that can be used to create sparse matrices.\n",
        "    rows, cols, data = list(), list(), list()\n",
        "    if verbose: print(\"Computing top\", top, \" similar users for each user\")\n",
        "    \n",
        "    start = datetime.now()\n",
        "    temp = 0\n",
        "    \n",
        "    for row in row_ind[:top] if compute_for_few else row_ind:\n",
        "        temp = temp+1\n",
        "        prev = datetime.now()\n",
        "        \n",
        "        # Get the similarity row for this user with all other users\n",
        "        sim = cosine_similarity(sparse_matrix.getrow(row), sparse_matrix).ravel()\n",
        "        # We will get only the top ''top'' most similar users and ignore the rest of them.\n",
        "        top_sim_ind = sim.argsort()[-top:]\n",
        "        top_sim_val = sim[top_sim_ind]\n",
        "        \n",
        "        # Add them to our rows, cols and data\n",
        "        rows.extend([row]*top)\n",
        "        cols.extend(top_sim_ind)\n",
        "        data.extend(top_sim_val)\n",
        "        time_taken.append(datetime.now().timestamp() - prev.timestamp())\n",
        "        if verbose:\n",
        "            if temp%verb_for_n_rows == 0:\n",
        "                print(\"Computing done for {} users [  time elapsed : {}  ]\"\n",
        "                      .format(temp, datetime.now()-start))\n",
        "            \n",
        "    # Let's create a sparse matrix out of these and return it\n",
        "    if verbose: print('Creating Sparse matrix from the computed similarities')\n",
        "    \n",
        "    if draw_time_taken:\n",
        "        plt.plot(time_taken, label = 'Time taken for each user')\n",
        "        plt.plot(np.cumsum(time_taken), label='Total time')\n",
        "        plt.legend(loc='best')\n",
        "        plt.xlabel('User')\n",
        "        plt.ylabel('Time (seconds)')\n",
        "        plt.show()\n",
        "      \n",
        "    return sparse.csr_matrix((data, (rows, cols)), shape=(no_of_users, no_of_users)), time_taken      "
      ]
    },
    {
      "cell_type": "code",
      "execution_count": 67,
      "metadata": {
        "execution": {
          "iopub.execute_input": "2021-11-04T16:38:22.064333Z",
          "iopub.status.busy": "2021-11-04T16:38:22.063634Z",
          "iopub.status.idle": "2021-11-04T16:45:20.896134Z",
          "shell.execute_reply": "2021-11-04T16:45:20.895053Z",
          "shell.execute_reply.started": "2021-11-04T16:38:22.064296Z"
        },
        "id": "yefWYynqLkXY",
        "outputId": "b706230f-d1ac-4a46-8338-a499f7cc9440",
        "trusted": true
      },
      "outputs": [
        {
          "name": "stdout",
          "output_type": "stream",
          "text": [
            "Computing top 100  similar users for each user\n",
            "Computing done for 20 users [  time elapsed : 0:02:00.751037  ]\n",
            "Computing done for 40 users [  time elapsed : 0:03:54.384181  ]\n",
            "Computing done for 60 users [  time elapsed : 0:06:08.991011  ]\n",
            "Computing done for 80 users [  time elapsed : 0:08:04.183310  ]\n",
            "Computing done for 100 users [  time elapsed : 0:09:39.437582  ]\n",
            "Creating Sparse matrix from the computed similarities\n"
          ]
        },
        {
          "data": {
            "image/png": "[encoded data removed]",
            "text/plain": [
              "<Figure size 432x288 with 1 Axes>"
            ]
          },
          "metadata": {},
          "output_type": "display_data"
        },
        {
          "name": "stdout",
          "output_type": "stream",
          "text": [
            "Time taken: 0:09:53.860840\n"
          ]
        }
      ],
      "source": [
        "start = datetime.now()\n",
        "u_u_sim_sparse, _ = compute_user_similarity(train_sparse_matrix, compute_for_few=True, top = 100,\n",
        "    verbose=True)\n",
        "print(\"Time taken:\", datetime.now()-start)"
      ]
    },
    {
      "attachments": {},
      "cell_type": "markdown",
      "metadata": {
        "id": "t29P6-OmLkXZ"
      },
      "source": [
        "#### 2.4.1.2 Trying with reduced dimensions (Using TruncatedSVD for dimensionality reduction of user vector)\n"
      ]
    },
    {
      "cell_type": "code",
      "execution_count": 15,
      "metadata": {
        "execution": {
          "iopub.execute_input": "2021-11-04T16:45:20.898568Z",
          "iopub.status.busy": "2021-11-04T16:45:20.898303Z",
          "iopub.status.idle": "2021-11-04T16:45:20.904396Z",
          "shell.execute_reply": "2021-11-04T16:45:20.903465Z",
          "shell.execute_reply.started": "2021-11-04T16:45:20.898537Z"
        },
        "id": "QWw_aoyXLkXZ",
        "trusted": true
      },
      "outputs": [],
      "source": [
        "# # Initialize the algorithm with some parameters..\n",
        "# # All of them are default except n_components. n_itr is for Randomized SVD solver.\n",
        "netflix_svd = TruncatedSVD(n_components=500, algorithm='randomized', random_state=15)\n",
        "trunc_svd = netflix_svd.fit_transform(train_sparse_matrix)"
      ]
    },
    {
      "attachments": {},
      "cell_type": "markdown",
      "metadata": {
        "id": "jEZZhETILkXa"
      },
      "source": [
        "Here,\n",
        "- $\\sum \\longleftarrow$ (netflix\\_svd.**singular\\_values\\_** )\n",
        "- $\\bigvee^T \\longleftarrow$ (netflix\\_svd.**components_**)\n",
        "- $\\bigcup$ is not returned. instead **Projection_of_X** onto the new vectorspace is returned. \n",
        "- It uses **randomized svd** internally, which returns **all 3 of them separately**. Use that instead."
      ]
    },
    {
      "cell_type": "code",
      "execution_count": null,
      "metadata": {
        "execution": {
          "iopub.execute_input": "2021-11-04T16:45:20.906560Z",
          "iopub.status.busy": "2021-11-04T16:45:20.906273Z",
          "iopub.status.idle": "2021-11-04T16:45:20.917105Z",
          "shell.execute_reply": "2021-11-04T16:45:20.916096Z",
          "shell.execute_reply.started": "2021-11-04T16:45:20.906526Z"
        },
        "id": "cjgJKxVNLkXa",
        "trusted": true
      },
      "outputs": [],
      "source": [
        "#expl_var = np.cumsum(netflix_svd.explained_variance_ratio_)"
      ]
    },
    {
      "cell_type": "code",
      "execution_count": null,
      "metadata": {
        "execution": {
          "iopub.execute_input": "2021-11-04T16:45:20.945988Z",
          "iopub.status.busy": "2021-11-04T16:45:20.945331Z",
          "iopub.status.idle": "2021-11-04T16:45:20.954147Z",
          "shell.execute_reply": "2021-11-04T16:45:20.953186Z",
          "shell.execute_reply.started": "2021-11-04T16:45:20.945937Z"
        },
        "id": "isoMRv0zLkXc",
        "trusted": true
      },
      "outputs": [],
      "source": [
        "# # Let's project our Original U_M matrix into into 500 Dimensional space\n",
        "# trunc_matrix = train_sparse_matrix.dot(netflix_svd.components_.T)\n"
      ]
    },
    {
      "cell_type": "code",
      "execution_count": null,
      "metadata": {
        "execution": {
          "iopub.execute_input": "2021-11-04T16:45:20.955986Z",
          "iopub.status.busy": "2021-11-04T16:45:20.955513Z",
          "iopub.status.idle": "2021-11-04T16:45:49.141083Z",
          "shell.execute_reply": "2021-11-04T16:45:49.139909Z",
          "shell.execute_reply.started": "2021-11-04T16:45:20.955951Z"
        },
        "id": "OvcGBqJaLkXc",
        "outputId": "ecc0f269-2120-478a-a208-92e84d1d8bee",
        "trusted": true
      },
      "outputs": [
        {
          "name": "stdout",
          "output_type": "stream",
          "text": [
            "(2649430, 500)\n"
          ]
        }
      ],
      "source": [
        "# Let's convert this to actual sparse matrix and store it for future purposes\n",
        "# if not os.path.isfile('/trunc_sparse_matrix.npz'):\n",
        "#     # Create that sparse matrix\n",
        "#     trunc_sparse_matrix = sparse.csr_matrix(trunc_matrix)\n",
        "#     # Save this truncated sparse matrix for later usage\n",
        "#     sparse.save_npz('trunc_sparse_matrix', trunc_sparse_matrix)\n",
        "# else:\n",
        "#     trunc_sparse_matrix = sparse.load_npz('trunc_sparse_matrix.npz')\n",
        "    "
      ]
    },
    {
      "cell_type": "code",
      "execution_count": null,
      "metadata": {
        "execution": {
          "iopub.execute_input": "2021-11-04T16:45:49.143281Z",
          "iopub.status.busy": "2021-11-04T16:45:49.142897Z",
          "iopub.status.idle": "2021-11-04T16:54:15.536390Z",
          "shell.execute_reply": "2021-11-04T16:54:15.535043Z",
          "shell.execute_reply.started": "2021-11-04T16:45:49.143230Z"
        },
        "id": "N6i1y7w_LkXc",
        "outputId": "962b9f79-7867-4a25-f9c2-6dc1171a3bf4",
        "trusted": true
      },
      "outputs": [],
      "source": [
        "# gc.collect()\n",
        "\n",
        "# trunc_u_u_sim_matrix, _ = compute_user_similarity(trunc_sparse_matrix, compute_for_few=True, top=50, \n",
        "#       verbose=True, verb_for_n_rows=10)\n"
      ]
    },
    {
      "cell_type": "code",
      "execution_count": null,
      "metadata": {
        "execution": {
          "iopub.execute_input": "2021-11-04T16:54:15.538622Z",
          "iopub.status.busy": "2021-11-04T16:54:15.538314Z",
          "iopub.status.idle": "2021-11-04T16:54:15.742923Z",
          "shell.execute_reply": "2021-11-04T16:54:15.741439Z",
          "shell.execute_reply.started": "2021-11-04T16:54:15.538581Z"
        },
        "id": "xvLmrwB-LkXd",
        "outputId": "9f2049d7-4e2c-4025-a70e-5475e5f32481",
        "trusted": true
      },
      "outputs": [
        {
          "data": {
            "text/plain": [
              "3399"
            ]
          },
          "execution_count": 50,
          "metadata": {},
          "output_type": "execute_result"
        }
      ],
      "source": [
        "# # Freeing up the RAM\n",
        "# del u_u_sim_sparse\n",
        "# del trunc_sparse_matrix\n",
        "# del trunc_u_u_sim_matrix\n",
        "# del _\n",
        "# gc.collect()"
      ]
    },
    {
      "attachments": {},
      "cell_type": "markdown",
      "metadata": {
        "id": "ptNkrFOSLkXd"
      },
      "source": [
        "- This is taking more time for each user than the original one. From the above plot, it took almost **50s** for computing simlilar users for **one user**.\n",
        "\n",
        " **Why did this happen?** Just think about it, it's not that difficult.\n",
        "- The reason is because of the differences between Sparse and Dense Matrices. The original matrix was a sparse matrix, and hence computation was much faster for it, but after we used Truncated SVD, though, we got a reduced dimensional matrix, but it was a dense matrix.\n",
        "\n",
        "- Is there any other way to compute user user similarity?\n",
        "- An alternative is to compute similar users for a particular user,  whenenver required (**ie., Run time**)\n",
        "- We maintain a binary vector for users, which tells us whether we already computed for it or not\n",
        "- **If not**: \n",
        "    - Compute top (let's just say, 100) most similar users for this given user, and add this to our datastructure, so that we can just access it (similar users) without recomputing it again.\n",
        "- **If it is already computed**:\n",
        "    - Just get it directly from our datastructure, which has that information.\n",
        "    - In production time, we might have to recompute similarities, if it is computed a long time ago. Because user preferences changes over time. If we could maintain some kind of timer, which when expires, we have to update it (recompute it). \n",
        "- **Which datastructure to use**:\n",
        "    - It is purely implementation dependent \n",
        "    - One simple method is to maintain a **Dictionary Of Dictionaries**.\n",
        "        - **key**  : *userid* \n",
        "        - **value**: *Again a dictionary*\n",
        "            - **key**  : *Similar User*\n",
        "            - **value**: *Similarity Value*\n",
        "                  \n",
        "### 2.4.2 Computing Movie-Movie Similarity matrix "
      ]
    },
    {
      "cell_type": "code",
      "execution_count": 4,
      "metadata": {
        "execution": {
          "iopub.execute_input": "2021-11-04T16:54:15.745335Z",
          "iopub.status.busy": "2021-11-04T16:54:15.744415Z",
          "iopub.status.idle": "2021-11-04T16:55:05.612290Z",
          "shell.execute_reply": "2021-11-04T16:55:05.611102Z",
          "shell.execute_reply.started": "2021-11-04T16:54:15.745279Z"
        },
        "id": "mRgBPWGtLkXe",
        "outputId": "102da555-50f0-4d5e-8f45-98a9d6c46b26",
        "trusted": true
      },
      "outputs": [
        {
          "name": "stdout",
          "output_type": "stream",
          "text": [
            "It seems you don't have that file. Computing movie_movie similarity\n",
            "Done\n",
            "Saving it to disk without the need of re-computing it again\n",
            "Done\n",
            "It's a  (17771, 17771)  dimensional matrix\n",
            "0:14:27.472082\n"
          ]
        }
      ],
      "source": [
        "train_sparse_matrix = sparse.load_npz('train_sparse_matrix.npz')\n",
        "start = datetime.now()\n",
        "if not os.path.isfile('/m_m_sim_sparse.npz'):\n",
        "    print(\"It seems you don't have that file. Computing movie_movie similarity\")\n",
        "    start = datetime.now()\n",
        "    m_m_sim_sparse = cosine_similarity(X=train_sparse_matrix.T, dense_output=False)\n",
        "    print(\"Done\")\n",
        "    # Store this sparse matrix in disk before using it. For future purposes.\n",
        "    print(\"Saving it to disk without the need of re-computing it again\")\n",
        "    sparse.save_npz(\"m_m_sim_sparse.npz\", m_m_sim_sparse)\n",
        "    print(\"Done\")\n",
        "else:\n",
        "    m_m_sim_sparse = sparse.load_npz(\"m_m_sim_sparse.npz\")\n",
        "    print(\"Done\")\n",
        "\n",
        "print(\"It's a \", m_m_sim_sparse.shape,\" dimensional matrix\")\n",
        "print(datetime.now() - start)\n"
      ]
    },
    {
      "attachments": {},
      "cell_type": "markdown",
      "metadata": {
        "id": "eZFf7MQtLkXf"
      },
      "source": [
        "- Even though we have similarity measure of each movie, with all other movies, We generally don't care much about least similar movies.\n",
        "- Most of the times, only top_xxx similar items matters. It may be 10 or 100.\n",
        "- We take only those top similar movie ratings and store them  in a saperate dictionary."
      ]
    },
    {
      "cell_type": "code",
      "execution_count": 5,
      "metadata": {
        "execution": {
          "iopub.execute_input": "2021-11-04T16:55:05.613919Z",
          "iopub.status.busy": "2021-11-04T16:55:05.613657Z",
          "iopub.status.idle": "2021-11-04T16:55:33.328600Z",
          "shell.execute_reply": "2021-11-04T16:55:33.315436Z",
          "shell.execute_reply.started": "2021-11-04T16:55:05.613888Z"
        },
        "id": "QFl9N2jvLkXf",
        "trusted": true
      },
      "outputs": [],
      "source": [
        "movie_ids = np.unique(m_m_sim_sparse.nonzero()[1])"
      ]
    },
    {
      "cell_type": "code",
      "execution_count": 6,
      "metadata": {
        "execution": {
          "iopub.execute_input": "2021-11-04T16:55:33.340315Z",
          "iopub.status.busy": "2021-11-04T16:55:33.339963Z",
          "iopub.status.idle": "2021-11-04T16:56:06.226566Z",
          "shell.execute_reply": "2021-11-04T16:56:06.225445Z",
          "shell.execute_reply.started": "2021-11-04T16:55:33.340280Z"
        },
        "id": "dXkweOt9LkXf",
        "outputId": "9e2fa5b9-2233-47e6-fca5-2dee82e33610",
        "trusted": true
      },
      "outputs": [
        {
          "name": "stdout",
          "output_type": "stream",
          "text": [
            "0:01:09.064372\n"
          ]
        },
        {
          "data": {
            "text/plain": [
              "array([ 8279,  8013, 16528,  5927, 13105, 12049,  4424, 10193, 17590,\n",
              "        4549,  3755,   590, 14059, 15144, 15054,  9584,  9071,  6349,\n",
              "       16402,  3973,  1720,  5370, 16309,  9376,  6116,  4706,  2818,\n",
              "         778, 15331,  1416, 12979, 17139, 17710,  5452,  2534,   164,\n",
              "       15188,  8323,  2450, 16331,  9566, 15301, 13213, 14308, 15984,\n",
              "       10597,  6426,  5500,  7068,  7328,  5720,  9802,   376, 13013,\n",
              "        8003, 10199,  3338, 15390,  9688, 16455, 11730,  4513,   598,\n",
              "       12762,  2187,   509,  5865,  9166, 17115, 16334,  1942,  7282,\n",
              "       17584,  4376,  8988,  8873,  5921,  2716, 14679, 11947, 11981,\n",
              "        4649,   565, 12954, 10788, 10220, 10963,  9427,  1690,  5107,\n",
              "        7859,  5969,  1510,  2429,   847,  7845,  6410, 13931,  9840,\n",
              "        3706], dtype=int64)"
            ]
          },
          "execution_count": 6,
          "metadata": {},
          "output_type": "execute_result"
        }
      ],
      "source": [
        "start = datetime.now()\n",
        "similar_movies = dict()\n",
        "for movie in movie_ids:\n",
        "    # Get the top similar movies and store them in the dictionary\n",
        "    sim_movies = m_m_sim_sparse[movie].toarray().ravel().argsort()[::-1][1:]\n",
        "    similar_movies[movie] = sim_movies[:100]\n",
        "print(datetime.now() - start)\n",
        "\n",
        "# Just testing similar movies for movie_15\n",
        "similar_movies[15]"
      ]
    },
    {
      "attachments": {},
      "cell_type": "markdown",
      "metadata": {
        "id": "hpn-OUtLLkXg"
      },
      "source": [
        "### 2.4.3 Finding most similar movies using similarity matrix\n",
        "- Does Similarity really works as the way we expected? \n",
        "- Let's pick some random movie and check for its similar movies."
      ]
    },
    {
      "cell_type": "code",
      "execution_count": 7,
      "metadata": {
        "execution": {
          "iopub.execute_input": "2021-11-04T16:56:06.228315Z",
          "iopub.status.busy": "2021-11-04T16:56:06.228006Z",
          "iopub.status.idle": "2021-11-04T16:56:06.349549Z",
          "shell.execute_reply": "2021-11-04T16:56:06.348660Z",
          "shell.execute_reply.started": "2021-11-04T16:56:06.228279Z"
        },
        "id": "hYOYefYTLkXg",
        "outputId": "7357bf49-b214-4507-825e-b3ba0a7d299a",
        "trusted": true
      },
      "outputs": [
        {
          "name": "stdout",
          "output_type": "stream",
          "text": [
            "Tokenization took: 16.06 ms\n",
            "Type conversion took: 40.18 ms\n",
            "Parser memory cleanup took: 0.00 ms\n"
          ]
        },
        {
          "data": {
            "text/html": [
              "<div>\n",
              "<style scoped>\n",
              "    .dataframe tbody tr th:only-of-type {\n",
              "        vertical-align: middle;\n",
              "    }\n",
              "\n",
              "    .dataframe tbody tr th {\n",
              "        vertical-align: top;\n",
              "    }\n",
              "\n",
              "    .dataframe thead th {\n",
              "        text-align: right;\n",
              "    }\n",
              "</style>\n",
              "<table border=\"1\" class=\"dataframe\">\n",
              "  <thead>\n",
              "    <tr style=\"text-align: right;\">\n",
              "      <th></th>\n",
              "      <th>year_of_release</th>\n",
              "      <th>title</th>\n",
              "    </tr>\n",
              "    <tr>\n",
              "      <th>movie_id</th>\n",
              "      <th></th>\n",
              "      <th></th>\n",
              "    </tr>\n",
              "  </thead>\n",
              "  <tbody>\n",
              "    <tr>\n",
              "      <th>1</th>\n",
              "      <td>2003.0</td>\n",
              "      <td>Dinosaur Planet</td>\n",
              "    </tr>\n",
              "    <tr>\n",
              "      <th>2</th>\n",
              "      <td>2004.0</td>\n",
              "      <td>Isle of Man TT 2004 Review</td>\n",
              "    </tr>\n",
              "    <tr>\n",
              "      <th>3</th>\n",
              "      <td>1997.0</td>\n",
              "      <td>Character</td>\n",
              "    </tr>\n",
              "    <tr>\n",
              "      <th>4</th>\n",
              "      <td>1994.0</td>\n",
              "      <td>Paula Abdul's Get Up &amp; Dance</td>\n",
              "    </tr>\n",
              "    <tr>\n",
              "      <th>5</th>\n",
              "      <td>2004.0</td>\n",
              "      <td>The Rise and Fall of ECW</td>\n",
              "    </tr>\n",
              "  </tbody>\n",
              "</table>\n",
              "</div>"
            ],
            "text/plain": [
              "          year_of_release                         title\n",
              "movie_id                                               \n",
              "1                  2003.0               Dinosaur Planet\n",
              "2                  2004.0    Isle of Man TT 2004 Review\n",
              "3                  1997.0                     Character\n",
              "4                  1994.0  Paula Abdul's Get Up & Dance\n",
              "5                  2004.0      The Rise and Fall of ECW"
            ]
          },
          "execution_count": 7,
          "metadata": {},
          "output_type": "execute_result"
        }
      ],
      "source": [
        "# First let's load the movie details into soe dataframe\n",
        "\n",
        "movie_titles = pd.read_csv(\"movie_titles.csv\", sep=',', header = None,\n",
        "    names=['movie_id', 'year_of_release', 'title'], verbose=True, index_col = 'movie_id', encoding = \"ISO-8859-1\")\n",
        "movie_titles.head()"
      ]
    },
    {
      "cell_type": "code",
      "execution_count": 8,
      "metadata": {
        "execution": {
          "iopub.execute_input": "2021-11-04T16:56:06.351750Z",
          "iopub.status.busy": "2021-11-04T16:56:06.351048Z",
          "iopub.status.idle": "2021-11-04T16:56:07.114878Z",
          "shell.execute_reply": "2021-11-04T16:56:07.113518Z",
          "shell.execute_reply.started": "2021-11-04T16:56:06.351689Z"
        },
        "id": "arltdQGgLkXg",
        "outputId": "5a0d322c-ff92-48e8-e9fd-66a15d7c1a5f",
        "trusted": true
      },
      "outputs": [
        {
          "name": "stdout",
          "output_type": "stream",
          "text": [
            "Movie -  Vampire Journals\n",
            "It has 270 ratings from users.\n",
            "We have 17284 movies which are similar to this  and we will get only top most\n"
          ]
        }
      ],
      "source": [
        "# Similar Movies for 'Vampire Journals'\n",
        "mv_id = 67\n",
        "print(\"Movie - \", movie_titles.loc[mv_id].values[1])\n",
        "print(\"It has {} ratings from users.\".format(train_sparse_matrix[:,mv_id].getnnz()))\n",
        "print(\"We have {} movies which are similar to this  and we will get only top most\".format(m_m_sim_sparse[:,mv_id].getnnz()))"
      ]
    },
    {
      "cell_type": "code",
      "execution_count": 9,
      "metadata": {
        "execution": {
          "iopub.execute_input": "2021-11-04T16:56:07.116507Z",
          "iopub.status.busy": "2021-11-04T16:56:07.116191Z",
          "iopub.status.idle": "2021-11-04T16:56:07.126549Z",
          "shell.execute_reply": "2021-11-04T16:56:07.125577Z",
          "shell.execute_reply.started": "2021-11-04T16:56:07.116472Z"
        },
        "id": "qjrcM_WCLkXh",
        "trusted": true
      },
      "outputs": [
        {
          "data": {
            "text/plain": [
              "array([0.21032399, 0.17629207, 0.17608115, ..., 0.        , 0.        ,\n",
              "       0.        ])"
            ]
          },
          "execution_count": 9,
          "metadata": {},
          "output_type": "execute_result"
        }
      ],
      "source": [
        "similarities = m_m_sim_sparse[mv_id].toarray().ravel()\n",
        "similar_indices = similarities.argsort()[::-1][1:]\n",
        "similarities[similar_indices]\n",
        "\n",
        "# It will sort and reverse the array and ignore its similarity (ie.,1) \n",
        "# and return it's indices(movie_ids)"
      ]
    },
    {
      "cell_type": "code",
      "execution_count": 11,
      "metadata": {
        "execution": {
          "iopub.execute_input": "2021-11-04T16:56:07.129395Z",
          "iopub.status.busy": "2021-11-04T16:56:07.128962Z",
          "iopub.status.idle": "2021-11-04T16:56:07.503379Z",
          "shell.execute_reply": "2021-11-04T16:56:07.502193Z",
          "shell.execute_reply.started": "2021-11-04T16:56:07.129342Z"
        },
        "id": "K1DiB6bMLkXh",
        "outputId": "8dac2acb-5f40-4b1b-dbad-7ed2e46be81e",
        "trusted": true
      },
      "outputs": [
        {
          "data": {
            "image/png": "[encoded data removed]",
            "text/plain": [
              "<Figure size 432x288 with 1 Axes>"
            ]
          },
          "metadata": {},
          "output_type": "display_data"
        }
      ],
      "source": [
        "plt.plot(similarities[similar_indices], label='All the ratings')\n",
        "plt.plot(similarities[similar_indices[:100]], label='top 100 similar movies')\n",
        "plt.title(\"Similar Movies of {}(movie_id)\".format(mv_id), fontsize=20)\n",
        "plt.xlabel(\"Movies (Not Movie_Ids)\", fontsize=15)\n",
        "plt.ylabel(\"Cosine Similarity\",fontsize=15)\n",
        "plt.legend()\n",
        "plt.show()"
      ]
    },
    {
      "cell_type": "code",
      "execution_count": 12,
      "metadata": {
        "execution": {
          "iopub.execute_input": "2021-11-04T16:56:07.505153Z",
          "iopub.status.busy": "2021-11-04T16:56:07.504854Z",
          "iopub.status.idle": "2021-11-04T16:56:07.521895Z",
          "shell.execute_reply": "2021-11-04T16:56:07.520865Z",
          "shell.execute_reply.started": "2021-11-04T16:56:07.505116Z"
        },
        "id": "qocigi_VLkXi",
        "outputId": "b3cca10e-5a2f-4c20-9b3f-5822f9ed14cf",
        "trusted": true
      },
      "outputs": [
        {
          "data": {
            "text/html": [
              "<div>\n",
              "<style scoped>\n",
              "    .dataframe tbody tr th:only-of-type {\n",
              "        vertical-align: middle;\n",
              "    }\n",
              "\n",
              "    .dataframe tbody tr th {\n",
              "        vertical-align: top;\n",
              "    }\n",
              "\n",
              "    .dataframe thead th {\n",
              "        text-align: right;\n",
              "    }\n",
              "</style>\n",
              "<table border=\"1\" class=\"dataframe\">\n",
              "  <thead>\n",
              "    <tr style=\"text-align: right;\">\n",
              "      <th></th>\n",
              "      <th>year_of_release</th>\n",
              "      <th>title</th>\n",
              "    </tr>\n",
              "    <tr>\n",
              "      <th>movie_id</th>\n",
              "      <th></th>\n",
              "      <th></th>\n",
              "    </tr>\n",
              "  </thead>\n",
              "  <tbody>\n",
              "    <tr>\n",
              "      <th>323</th>\n",
              "      <td>1999.0</td>\n",
              "      <td>Modern Vampires</td>\n",
              "    </tr>\n",
              "    <tr>\n",
              "      <th>4044</th>\n",
              "      <td>1998.0</td>\n",
              "      <td>Subspecies 4: Bloodstorm</td>\n",
              "    </tr>\n",
              "    <tr>\n",
              "      <th>1688</th>\n",
              "      <td>1993.0</td>\n",
              "      <td>To Sleep With a Vampire</td>\n",
              "    </tr>\n",
              "    <tr>\n",
              "      <th>13962</th>\n",
              "      <td>2001.0</td>\n",
              "      <td>Dracula: The Dark Prince</td>\n",
              "    </tr>\n",
              "    <tr>\n",
              "      <th>12053</th>\n",
              "      <td>1993.0</td>\n",
              "      <td>Dracula Rising</td>\n",
              "    </tr>\n",
              "    <tr>\n",
              "      <th>16279</th>\n",
              "      <td>2002.0</td>\n",
              "      <td>Vampires: Los Muertos</td>\n",
              "    </tr>\n",
              "    <tr>\n",
              "      <th>4667</th>\n",
              "      <td>1996.0</td>\n",
              "      <td>Vampirella</td>\n",
              "    </tr>\n",
              "    <tr>\n",
              "      <th>1900</th>\n",
              "      <td>1997.0</td>\n",
              "      <td>Club Vampire</td>\n",
              "    </tr>\n",
              "    <tr>\n",
              "      <th>13873</th>\n",
              "      <td>2001.0</td>\n",
              "      <td>The Breed</td>\n",
              "    </tr>\n",
              "    <tr>\n",
              "      <th>15867</th>\n",
              "      <td>2003.0</td>\n",
              "      <td>Dracula II: Ascension</td>\n",
              "    </tr>\n",
              "  </tbody>\n",
              "</table>\n",
              "</div>"
            ],
            "text/plain": [
              "          year_of_release                     title\n",
              "movie_id                                           \n",
              "323                1999.0           Modern Vampires\n",
              "4044               1998.0  Subspecies 4: Bloodstorm\n",
              "1688               1993.0   To Sleep With a Vampire\n",
              "13962              2001.0  Dracula: The Dark Prince\n",
              "12053              1993.0            Dracula Rising\n",
              "16279              2002.0     Vampires: Los Muertos\n",
              "4667               1996.0                Vampirella\n",
              "1900               1997.0              Club Vampire\n",
              "13873              2001.0                 The Breed\n",
              "15867              2003.0     Dracula II: Ascension"
            ]
          },
          "execution_count": 12,
          "metadata": {},
          "output_type": "execute_result"
        }
      ],
      "source": [
        "# Top 10 similar movies\n",
        "movie_titles.loc[similar_indices[:10]]\n",
        "\n",
        "# Similarly, we can ___find similar users___ and compare how similar they are. "
      ]
    },
    {
      "attachments": {},
      "cell_type": "markdown",
      "metadata": {},
      "source": [
        "# Matrix Factorization Techniques"
      ]
    },
    {
      "cell_type": "code",
      "execution_count": 7,
      "metadata": {},
      "outputs": [
        {
          "data": {
            "text/plain": [
              "0"
            ]
          },
          "execution_count": 7,
          "metadata": {},
          "output_type": "execute_result"
        }
      ],
      "source": [
        "\n",
        "train_df=pd.read_csv('train.csv')\n",
        "sample_train_df=train_df[:10000000]\n",
        "reader = Reader(rating_scale=(1, 5))\n",
        "# Create the traindata from the dataframe\n",
        "train_data = Dataset.load_from_df(sample_train_df[['user', 'movie', 'rating']], reader)\n",
        "# Build the trainset from traindata, it is of dataset format from surprise library\n",
        "trainset = train_data.build_full_trainset() \n",
        "del train_df\n",
        "gc.collect()"
      ]
    },
    {
      "cell_type": "code",
      "execution_count": 8,
      "metadata": {},
      "outputs": [
        {
          "data": {
            "text/plain": [
              "0"
            ]
          },
          "execution_count": 8,
          "metadata": {},
          "output_type": "execute_result"
        }
      ],
      "source": [
        "test_df=pd.read_csv('test.csv')\n",
        "sample_test_df=test_df[:2500000]\n",
        "testset = list(zip(sample_test_df.user.values,sample_test_df.movie.values,sample_test_df.rating.values))  \n",
        "del test_df\n",
        "gc.collect()"
      ]
    },
    {
      "cell_type": "code",
      "execution_count": 9,
      "metadata": {},
      "outputs": [],
      "source": [
        "models_evaluation_train = dict()\n",
        "models_evaluation_test = dict() \n"
      ]
    },
    {
      "cell_type": "code",
      "execution_count": 10,
      "metadata": {},
      "outputs": [],
      "source": [
        "# Utility functions for Surprise modes\n",
        "\n",
        "# It is just to makesure that all of our algorithms should produce same results everytime they run\n",
        "my_seed = 15\n",
        "random.seed(my_seed)\n",
        "np.random.seed(my_seed)\n",
        "\n",
        "# Get  (actual_list , predicted_list) ratings given list of predictions \n",
        "# (Prediction is a class in Surprise).    \n",
        "def get_ratings(predictions):\n",
        "    actual = np.array([pred.r_ui for pred in predictions])\n",
        "    pred = np.array([pred.est for pred in predictions])\n",
        "    return actual, pred\n",
        "\n",
        "# Get RMSE and MAPE, given list of prediction objecs \n",
        "def get_errors(predictions, print_them=False):\n",
        "    actual, pred = get_ratings(predictions)\n",
        "    rmse = np.sqrt(np.mean((pred - actual)**2))\n",
        "    mape = np.mean(np.abs(pred - actual)/actual)\n",
        "    return rmse, mape*100\n",
        "\n",
        "# It will return predicted ratings, RMSE and MAPE of both train and test data\n",
        "def run_surprise(algo, trainset, testset, verbose=True): \n",
        "    '''\n",
        "    return train_dict, test_dict\n",
        "    It returns two dictionaries, one for train and the other is for test\n",
        "    Each of them have 3 key-value pairs, which specify RMSE, MAPE and `predicted ratings`.\n",
        "    '''\n",
        "    start = datetime.now()\n",
        "    # Dictionaries that stores metrics for train and test\n",
        "    train = dict()\n",
        "    test = dict()\n",
        "    \n",
        "    # Train the algorithm with the trainset\n",
        "    st = datetime.now()\n",
        "    print('Training the model')\n",
        "    algo.fit(trainset)\n",
        "    print('Done. Time taken: {}'.format(datetime.now()-st))\n",
        "    \n",
        "    # Evaluating train data\n",
        "    st = datetime.now()\n",
        "    print('Evaluating the model with train data')\n",
        "    # Get the train predictions (list of prediction class inside Surprise)\n",
        "    train_preds = algo.test(trainset.build_testset())\n",
        "    # Get predicted ratings from the train predictions\n",
        "    train_actual_ratings, train_pred_ratings = get_ratings(train_preds)\n",
        "    # Get RMSE and MAPE from the train predictions\n",
        "    train_rmse, train_mape = get_errors(train_preds)\n",
        "    print('Time taken: {}'.format(datetime.now()-st))\n",
        "  \n",
        "    if verbose:\n",
        "        print('-'*15)\n",
        "        print('Train Data')\n",
        "        print('-'*15)\n",
        "        print(\"RMSE: {}\\nMAPE: {}\".format(train_rmse, train_mape))\n",
        "    \n",
        "    # Store them in the train dictionary\n",
        "    if verbose:\n",
        "        print('Adding train results in the dictionary')\n",
        "    train['rmse'] = train_rmse\n",
        "    train['mape'] = train_mape\n",
        "    train['predictions'] = train_pred_ratings\n",
        "    \n",
        "    # Evaluating Test data\n",
        "    st = datetime.now()\n",
        "    print('Evaluating for test data')\n",
        "    # Get the predictions (list of prediction classes) of test data\n",
        "    test_preds = algo.test(testset)\n",
        "    # Get the predicted ratings from the list of predictions\n",
        "    test_actual_ratings, test_pred_ratings = get_ratings(test_preds)\n",
        "    # Get error metrics from the predicted and actual ratings\n",
        "    test_rmse, test_mape = get_errors(test_preds)\n",
        "    print('Time taken: {}'.format(datetime.now()-st))\n",
        "    \n",
        "    \n",
        "    if verbose:\n",
        "        print('-'*15)\n",
        "        print('Test Data')\n",
        "        print('-'*15)\n",
        "        print(\"RMSE : {}\\nMAPE : {}\".format(test_rmse, test_mape))\n",
        "    # Store them in test dictionary\n",
        "    if verbose:\n",
        "        print('storing the test results in test dictionary...')\n",
        "    test['rmse'] = test_rmse\n",
        "    test['mape'] = test_mape\n",
        "    test['predictions'] = test_pred_ratings\n",
        "    \n",
        "    print('\\n'+'-'*45)\n",
        "    print('Total time taken to run this algorithm: ', datetime.now() - start)\n",
        "    \n",
        "    # Return two dictionaries train and test\n",
        "    return train, test"
      ]
    },
    {
      "attachments": {},
      "cell_type": "markdown",
      "metadata": {},
      "source": [
        "\n",
        "#### 3.1 SVD Matrix Factorization User Movie Interactions\n"
      ]
    },
    {
      "cell_type": "code",
      "execution_count": 14,
      "metadata": {},
      "outputs": [
        {
          "name": "stdout",
          "output_type": "stream",
          "text": [
            "Training the model\n",
            "Processing epoch 0\n",
            "Processing epoch 1\n",
            "Processing epoch 2\n",
            "Processing epoch 3\n",
            "Processing epoch 4\n",
            "Processing epoch 5\n",
            "Processing epoch 6\n",
            "Processing epoch 7\n",
            "Processing epoch 8\n",
            "Processing epoch 9\n",
            "Processing epoch 10\n",
            "Processing epoch 11\n",
            "Processing epoch 12\n",
            "Processing epoch 13\n",
            "Processing epoch 14\n",
            "Processing epoch 15\n",
            "Processing epoch 16\n",
            "Processing epoch 17\n",
            "Processing epoch 18\n",
            "Processing epoch 19\n",
            "Done. Time taken: 0:04:00.937926\n",
            "Evaluating the model with train data\n",
            "Time taken: 0:04:56.719954\n",
            "---------------\n",
            "Train Data\n",
            "---------------\n",
            "RMSE: 0.7312009577169861\n",
            "MAPE: 22.83490582665477\n",
            "Adding train results in the dictionary\n",
            "Evaluating for test data\n",
            "Time taken: 0:02:35.780551\n",
            "---------------\n",
            "Test Data\n",
            "---------------\n",
            "RMSE : 1.1006367120170477\n",
            "MAPE : 32.7205396698921\n",
            "storing the test results in test dictionary...\n",
            "\n",
            "---------------------------------------------\n",
            "Total time taken to run this algorithm:  0:11:33.479828\n"
          ]
        }
      ],
      "source": [
        "# Initialize the model\n",
        "svd = SVD(n_factors=100, biased=True, random_state=15, verbose=True)\n",
        "svd_train_results, svd_test_results = run_surprise(svd, trainset, testset, verbose=True)\n",
        "\n",
        "# Just store these error metrics in our models_evaluation datastructure\n",
        "models_evaluation_train['svd'] = svd_train_results \n",
        "models_evaluation_test['svd'] = svd_test_results\n"
      ]
    },
    {
      "attachments": {},
      "cell_type": "markdown",
      "metadata": {},
      "source": [
        "#### 3.2 SVD Matrix Factorization with implicit feedback from user ( user rated movies )\n"
      ]
    },
    {
      "cell_type": "code",
      "execution_count": null,
      "metadata": {},
      "outputs": [],
      "source": [
        "# Initialize the model\n",
        "svdpp = SVDpp(n_factors=50, random_state=15, verbose=True)\n",
        "svdpp_train_results, svdpp_test_results = run_surprise(svdpp, trainset, testset, verbose=True)\n",
        "\n",
        "# Just store these error metrics in our models_evaluation datastructure\n",
        "models_evaluation_train['svdpp'] = svdpp_train_results \n",
        "models_evaluation_test['svdpp'] = svdpp_test_results"
      ]
    },
    {
      "attachments": {},
      "cell_type": "markdown",
      "metadata": {},
      "source": [
        "#### 3.3 KNN Baseline\n"
      ]
    },
    {
      "cell_type": "code",
      "execution_count": 15,
      "metadata": {},
      "outputs": [
        {
          "name": "stdout",
          "output_type": "stream",
          "text": [
            "Training the model\n",
            "Estimating biases using sgd...\n",
            "Computing the pearson_baseline similarity matrix...\n",
            "Done computing similarity matrix.\n",
            "Done. Time taken: 0:23:46.095451\n",
            "Evaluating the model with train data\n",
            "Time taken: 1:29:39.589913\n",
            "---------------\n",
            "Train Data\n",
            "---------------\n",
            "RMSE: 0.6749931295128279\n",
            "MAPE: 21.287334159299533\n",
            "Adding train results in the dictionary\n",
            "Evaluating for test data\n",
            "Time taken: 0:01:46.762459\n",
            "---------------\n",
            "Test Data\n",
            "---------------\n",
            "RMSE : 1.096174178137659\n",
            "MAPE : 32.874919669767735\n",
            "storing the test results in test dictionary...\n",
            "\n",
            "---------------------------------------------\n",
            "Total time taken to run this algorithm:  1:55:12.495838\n"
          ]
        }
      ],
      "source": [
        "# We specify, how to compute similarities and what to consider with sim_options to our algorithm\n",
        "# 'user_based' : False; This considers the similarities of movies instead of users\n",
        "sim_options = {'user_based' : False, 'name': 'pearson_baseline', 'shrinkage': 100, 'min_support': 2}\n",
        "\n",
        "# We keep other parameters like regularization parameter and learning_rate as default values\n",
        "bsl_options = {'method': 'sgd'}\n",
        "\n",
        "knn_bsl_m = KNNBaseline(k=40, sim_options = sim_options, bsl_options = bsl_options)\n",
        "knn_bsl_m_train_results, knn_bsl_m_test_results = run_surprise(knn_bsl_m, trainset, testset, verbose=True)\n",
        "\n",
        "# Just store these error metrics in our models_evaluation datastructure\n",
        "models_evaluation_train['knn_bsl_m'] = knn_bsl_m_train_results \n",
        "models_evaluation_test['knn_bsl_m'] = knn_bsl_m_test_results\n"
      ]
    },
    {
      "attachments": {},
      "cell_type": "markdown",
      "metadata": {},
      "source": [
        "# XGBoost \n"
      ]
    },
    {
      "attachments": {},
      "cell_type": "markdown",
      "metadata": {},
      "source": [
        "## Featurizing data"
      ]
    },
    {
      "attachments": {},
      "cell_type": "markdown",
      "metadata": {},
      "source": [
        "### Build sample dataset\n"
      ]
    },
    {
      "cell_type": "code",
      "execution_count": 2,
      "metadata": {},
      "outputs": [],
      "source": [
        "def get_sample_sparse_matrix(sparse_matrix, no_users, no_movies, path, verbose = True):\n",
        "    \"\"\"\n",
        "    It will get it from the ''path'' if it is present  or it will create \n",
        "    and store the sampled sparse matrix in the path specified.\n",
        "    \"\"\"\n",
        "    # Get (row, col) and (rating) tuple from sparse_matrix.\n",
        "    row_ind, col_ind, ratings = sparse.find(sparse_matrix)\n",
        "    users = np.unique(row_ind)\n",
        "    movies = np.unique(col_ind)\n",
        "\n",
        "    print(\"Original Matrix: (users, movies) -- ({} {})\".format(len(users), len(movies)))\n",
        "    print(\"Original Matrix: Ratings -- {}\\n\".format(len(ratings)))\n",
        "\n",
        "    # It's just to make sure to get same sample everytime we run this program & pick without replacement\n",
        "    np.random.seed(15)\n",
        "    sample_users = np.random.choice(users, no_users, replace=False)\n",
        "    sample_movies = np.random.choice(movies, no_movies, replace=False)\n",
        "    \n",
        "    # Get the boolean mask of these sampled_items in originl row/col_inds.\n",
        "    mask = np.logical_and(np.isin(row_ind, sample_users), np.isin(col_ind, sample_movies))\n",
        "    \n",
        "    sample_sparse_matrix = sparse.csr_matrix((ratings[mask], (row_ind[mask], col_ind[mask])),\n",
        "         shape=(max(sample_users)+1, max(sample_movies)+1))\n",
        "\n",
        "    if verbose:\n",
        "        print(\"Sampled Matrix : (users, movies) -- ({} {})\".format(len(sample_users), len(sample_movies)))\n",
        "        print(\"Sampled Matrix : Ratings --\", format(ratings[mask].shape[0]))\n",
        "\n",
        "    print('Saving it into disk for furthur usage!')\n",
        "    # save it into disk\n",
        "    sparse.save_npz(path, sample_sparse_matrix)\n",
        "    if verbose:\n",
        "            print('Done')\n",
        "    \n",
        "    return sample_sparse_matrix"
      ]
    },
    {
      "cell_type": "code",
      "execution_count": 8,
      "metadata": {},
      "outputs": [
        {
          "name": "stdout",
          "output_type": "stream",
          "text": [
            "Original Matrix: (users, movies) -- (405041 17424)\n",
            "Original Matrix: Ratings -- 80384405\n",
            "\n",
            "Sampled Matrix : (users, movies) -- (10000 1000)\n",
            "Sampled Matrix : Ratings -- 129286\n",
            "Saving it into disk for furthur usage!\n",
            "Done\n"
          ]
        }
      ],
      "source": [
        "\n",
        "path='./sample_train_sparse_maxtrix.npz'\n",
        "if os.path.isfile(path):\n",
        "    sample_train_sparse_matrix= sparse.load_npz('sample_train_sparse_maxtrix.npz')\n",
        "\n",
        "else:\n",
        "    sample_train_sparse_matrix = get_sample_sparse_matrix(train_sparse_matrix, no_users=10000, no_movies=1000, path=path)"
      ]
    },
    {
      "cell_type": "code",
      "execution_count": 10,
      "metadata": {},
      "outputs": [
        {
          "name": "stdout",
          "output_type": "stream",
          "text": [
            "Original Matrix: (users, movies) -- (349312 17757)\n",
            "Original Matrix: Ratings -- 20096102\n",
            "\n",
            "Sampled Matrix : (users, movies) -- (10000 1000)\n",
            "Sampled Matrix : Ratings -- 36017\n",
            "Saving it into disk for furthur usage!\n",
            "Done\n"
          ]
        }
      ],
      "source": [
        "\n",
        "path='./sample_test_sparse_matirx.npz'\n",
        "if os.path.isfile(path):\n",
        "    sample_test_sparse_matrix= sparse.load_npz(path)\n",
        "else:\n",
        "    sample_test_sparse_matrix= get_sample_sparse_matrix(test_sparse_matrix, no_users = 10000, no_movies=1000,path=path)"
      ]
    },
    {
      "attachments": {},
      "cell_type": "markdown",
      "metadata": {},
      "source": [
        "### Find average"
      ]
    },
    {
      "cell_type": "code",
      "execution_count": 14,
      "metadata": {},
      "outputs": [],
      "source": [
        "sample_train_averages = dict()"
      ]
    },
    {
      "cell_type": "code",
      "execution_count": 15,
      "metadata": {},
      "outputs": [
        {
          "name": "stdout",
          "output_type": "stream",
          "text": [
            "{'global': 3.581679377504138}\n"
          ]
        }
      ],
      "source": [
        "global_average = sample_train_sparse_matrix.sum()/sample_train_sparse_matrix.count_nonzero()\n",
        "sample_train_averages['global'] = global_average\n",
        "print(sample_train_averages)"
      ]
    },
    {
      "cell_type": "code",
      "execution_count": 18,
      "metadata": {},
      "outputs": [
        {
          "name": "stdout",
          "output_type": "stream",
          "text": [
            "Average rating of user 1515220: 3.9655172413793105\n"
          ]
        }
      ],
      "source": [
        "sample_train_averages['user'] = get_average_ratings(sample_train_sparse_matrix, of_users=True)\n",
        "print('Average rating of user 1515220:', sample_train_averages['user'][1515220])"
      ]
    },
    {
      "cell_type": "code",
      "execution_count": 24,
      "metadata": {},
      "outputs": [
        {
          "name": "stdout",
          "output_type": "stream",
          "text": [
            "Average rating of movie 15153: 2.6458333333333335\n"
          ]
        }
      ],
      "source": [
        "sample_train_averages['movie'] = get_average_ratings(sample_train_sparse_matrix,of_users=False)\n",
        "print('Average rating of movie 15153:', sample_train_averages['movie'][15153])"
      ]
    },
    {
      "cell_type": "code",
      "execution_count": 25,
      "metadata": {},
      "outputs": [
        {
          "name": "stdout",
          "output_type": "stream",
          "text": [
            "No of ratings in Our Sampled train matrix is : 129286\n",
            "\n",
            "No of ratings in Our Sampled test  matrix is : 36017\n",
            "\n"
          ]
        }
      ],
      "source": [
        "print('No of ratings in Our Sampled train matrix is : {}\\n'.format(sample_train_sparse_matrix.count_nonzero()))\n",
        "print('No of ratings in Our Sampled test  matrix is : {}\\n'.format(sample_test_sparse_matrix.count_nonzero()))"
      ]
    },
    {
      "attachments": {},
      "cell_type": "markdown",
      "metadata": {},
      "source": [
        "### Featurizing train data"
      ]
    },
    {
      "cell_type": "code",
      "execution_count": 27,
      "metadata": {},
      "outputs": [],
      "source": [
        "# Get users, movies and ratings from our samples train sparse matrix\n",
        "sample_train_users, sample_train_movies, sample_train_ratings = sparse.find(sample_train_sparse_matrix)"
      ]
    },
    {
      "cell_type": "code",
      "execution_count": 29,
      "metadata": {},
      "outputs": [
        {
          "name": "stdout",
          "output_type": "stream",
          "text": [
            "File already exists you don't have to prepare again!\n",
            "0:00:00.002964\n"
          ]
        }
      ],
      "source": [
        "start = datetime.now()\n",
        "if os.path.isfile('./reg_train.csv'):\n",
        "    print(\"File already exists you don't have to prepare again!\")\n",
        "else:\n",
        "    print('Preparing {} tuples for the dataset'.format(len(sample_train_ratings)))\n",
        "    with open('reg_train.csv', mode='w') as reg_data_file:\n",
        "        count = 0\n",
        "        for (user, movie, rating)  in zip(sample_train_users, sample_train_movies, sample_train_ratings):\n",
        "            st = datetime.now()\n",
        "            # =============================================\n",
        "            # Ratings of \"movie\" by similar users of \"user\"\n",
        "            # =============================================\n",
        "            \n",
        "            # Compute the similar Users of the \"user\"        \n",
        "            user_sim = cosine_similarity(sample_train_sparse_matrix[user], sample_train_sparse_matrix).ravel()\n",
        "            # We are ignoring 'The User' from its similar users\n",
        "            top_sim_users = user_sim.argsort()[::-1][1:] \n",
        "            # Get the ratings of most similar users for this movie\n",
        "            top_ratings = sample_train_sparse_matrix[top_sim_users, movie].toarray().ravel()\n",
        "            # We will make it's length \"5\" by adding movie averages to the rest of the cells.\n",
        "            top_sim_users_ratings = list(top_ratings[top_ratings != 0][:5])\n",
        "            top_sim_users_ratings.extend([sample_train_averages['movie'][movie]]*(5 - len(top_sim_users_ratings)))\n",
        "\n",
        "            # ==============================================\n",
        "            # Ratings by \"user\"  to similar movies of \"movie\"\n",
        "            # ==============================================\n",
        "            \n",
        "            # Compute the similar movies of the \"movie\"        \n",
        "            movie_sim = cosine_similarity(sample_train_sparse_matrix[:,movie].T, sample_train_sparse_matrix.T).ravel()\n",
        "            # We are ignoring 'The Movie' from its similar movies.\n",
        "            top_sim_movies = movie_sim.argsort()[::-1][1:] \n",
        "            # Get the ratings of most similar movie rated by this user\n",
        "            top_ratings = sample_train_sparse_matrix[user, top_sim_movies].toarray().ravel()\n",
        "            # We will make it's length \"5\" by adding user averages to the rest of the cells\n",
        "            top_sim_movies_ratings = list(top_ratings[top_ratings != 0][:5])\n",
        "            top_sim_movies_ratings.extend([sample_train_averages['user'][user]]*(5-len(top_sim_movies_ratings))) \n",
        "    \n",
        "            # ======================================\n",
        "            # Prepare the row to be stores in a file\n",
        "            # ======================================\n",
        "            \n",
        "            row = list()\n",
        "            row.append(user)\n",
        "            row.append(movie)\n",
        "            # Now add the other features to this data; First Feature\n",
        "            row.append(sample_train_averages['global']) \n",
        "            # Next 5 features are similar_users \"movie\" ratings\n",
        "            row.extend(top_sim_users_ratings)\n",
        "            # Next 5 features are \"user\" ratings for similar_movies\n",
        "            row.extend(top_sim_movies_ratings)\n",
        "            # Avg_user rating\n",
        "            row.append(sample_train_averages['user'][user])\n",
        "            # Avg_movie rating\n",
        "            row.append(sample_train_averages['movie'][movie])\n",
        "\n",
        "            # Finally, the actual rating of this user-movie pair\n",
        "            row.append(rating)\n",
        "            count = count + 1\n",
        "\n",
        "            # Add rows to the file opened\n",
        "            reg_data_file.write(','.join(map(str, row)))\n",
        "            reg_data_file.write('\\n')        \n",
        "            if (count)%10000 == 0:\n",
        "                print(\"Done for {} rows - {}\".format(count, datetime.now() - start))\n",
        "\n",
        "print(datetime.now() - start)"
      ]
    },
    {
      "attachments": {},
      "cell_type": "markdown",
      "metadata": {},
      "source": [
        "### Featurizing test data"
      ]
    },
    {
      "cell_type": "code",
      "execution_count": 30,
      "metadata": {},
      "outputs": [],
      "source": [
        "# Get users, movies and ratings from the Sampled Test \n",
        "sample_test_users, sample_test_movies, sample_test_ratings = sparse.find(sample_test_sparse_matrix)"
      ]
    },
    {
      "cell_type": "code",
      "execution_count": 40,
      "metadata": {},
      "outputs": [
        {
          "name": "stdout",
          "output_type": "stream",
          "text": [
            "It is already created!\n"
          ]
        }
      ],
      "source": [
        "start = datetime.now()\n",
        "if os.path.isfile('./reg_test.csv'):\n",
        "    print(\"It is already created!\")\n",
        "else:\n",
        "    print('Preparing {} tuples for the dataset..\\n'.format(len(sample_test_ratings)))\n",
        "    with open('reg_test.csv', mode='w') as reg_data_file:\n",
        "        count = 0 \n",
        "        for (user, movie, rating)  in zip(sample_test_users, sample_test_movies, sample_test_ratings):\n",
        "            st = datetime.now()\n",
        "            # =============================================\n",
        "            # Ratings of \"movie\" by similar users of \"user\"\n",
        "            # =============================================   \n",
        "            try:\n",
        "                # Compute the similar Users of the \"user\"        \n",
        "                user_sim = cosine_similarity(sample_train_sparse_matrix[user], sample_train_sparse_matrix).ravel()\n",
        "                # We are ignoring 'The User' from its similar users.\n",
        "                top_sim_users = user_sim.argsort()[::-1][1:] \n",
        "                # Get the ratings of most similar users for this movie\n",
        "                top_ratings = sample_train_sparse_matrix[top_sim_users, movie].toarray().ravel()\n",
        "                # We will make it's length \"5\" by adding movie averages to .\n",
        "                top_sim_users_ratings = list(top_ratings[top_ratings != 0][:5])\n",
        "                top_sim_users_ratings.extend([sample_train_averages['movie'][movie]]*(5 - len(top_sim_users_ratings)))\n",
        "\n",
        "            except (IndexError, KeyError):\n",
        "                # It is a new User or new Movie or there are no ratings for given user for top similar movies\n",
        "                # Cold STart Problem\n",
        "                top_sim_users_ratings.extend([sample_train_averages['global']]*(5 - len(top_sim_users_ratings)))\n",
        "            except:\n",
        "                # We just want KeyErrors to be resolved. Not every Exception...\n",
        "                print(user, movie)\n",
        "                raise\n",
        "\n",
        "            # ==============================================\n",
        "            # Ratings by \"user\"  to similar movies of \"movie\"\n",
        "            # ==============================================\n",
        "\n",
        "            try:\n",
        "                # Compute the similar movies of the \"movie\"        \n",
        "                movie_sim = cosine_similarity(sample_train_sparse_matrix[:,movie].T, sample_train_sparse_matrix.T).ravel()\n",
        "                # We are ignoring 'The Movie' from its similar movies.\n",
        "                top_sim_movies = movie_sim.argsort()[::-1][1:] \n",
        "                # Get the ratings of most similar movie rated by this user\n",
        "                top_ratings = sample_train_sparse_matrix[user, top_sim_movies].toarray().ravel()\n",
        "                # We will make it's length \"5\" by adding user averages to the rest of the cells\n",
        "                top_sim_movies_ratings = list(top_ratings[top_ratings != 0][:5])\n",
        "                top_sim_movies_ratings.extend([sample_train_averages['user'][user]]*(5-len(top_sim_movies_ratings))) \n",
        "            except (IndexError, KeyError):\n",
        "                top_sim_movies_ratings.extend([sample_train_averages['global']]*(5-len(top_sim_movies_ratings)))\n",
        "            except :\n",
        "                raise\n",
        "\n",
        "            # =======================================\n",
        "            # Prepare the row to be stores in a file\n",
        "            # =======================================\n",
        "            \n",
        "            row = list()\n",
        "            # Add user and movie name first\n",
        "            row.append(user)\n",
        "            row.append(movie)\n",
        "            # First feature\n",
        "            row.append(sample_train_averages['global']) \n",
        "            # Next 5 features are similar_users \"movie\" ratings\n",
        "            row.extend(top_sim_users_ratings)\n",
        "            # Next 5 features are \"user\" ratings for similar_movies\n",
        "            row.extend(top_sim_movies_ratings)\n",
        "            # Avg_user rating\n",
        "            try:\n",
        "                row.append(sample_train_averages['user'][user])\n",
        "            except KeyError:\n",
        "                row.append(sample_train_averages['global'])\n",
        "            except:\n",
        "                raise\n",
        "            # Avg_movie rating\n",
        "            try:\n",
        "                row.append(sample_train_averages['movie'][movie])\n",
        "            except KeyError:\n",
        "                row.append(sample_train_averages['global'])\n",
        "            except:\n",
        "                raise\n",
        "            # Finally, the actual rating of this user-movie pair\n",
        "            row.append(rating)\n",
        "            count = count + 1\n",
        "\n",
        "            # Add rows to the file opened\n",
        "            reg_data_file.write(','.join(map(str, row)))\n",
        "            reg_data_file.write('\\n')        \n",
        "            if (count)%1000 == 0:\n",
        "                print(\"Done for {} rows - {}\".format(count, datetime.now() - start))\n",
        "    print(\"\",datetime.now() - start)\n",
        "\n",
        "    "
      ]
    },
    {
      "attachments": {},
      "cell_type": "markdown",
      "metadata": {},
      "source": [
        "## Modeling "
      ]
    },
    {
      "cell_type": "code",
      "execution_count": 4,
      "metadata": {},
      "outputs": [
        {
          "data": {
            "text/html": [
              "<div>\n",
              "<style scoped>\n",
              "    .dataframe tbody tr th:only-of-type {\n",
              "        vertical-align: middle;\n",
              "    }\n",
              "\n",
              "    .dataframe tbody tr th {\n",
              "        vertical-align: top;\n",
              "    }\n",
              "\n",
              "    .dataframe thead th {\n",
              "        text-align: right;\n",
              "    }\n",
              "</style>\n",
              "<table border=\"1\" class=\"dataframe\">\n",
              "  <thead>\n",
              "    <tr style=\"text-align: right;\">\n",
              "      <th></th>\n",
              "      <th>user</th>\n",
              "      <th>movie</th>\n",
              "      <th>GAvg</th>\n",
              "      <th>sur1</th>\n",
              "      <th>sur2</th>\n",
              "      <th>sur3</th>\n",
              "      <th>sur4</th>\n",
              "      <th>sur5</th>\n",
              "      <th>smr1</th>\n",
              "      <th>smr2</th>\n",
              "      <th>smr3</th>\n",
              "      <th>smr4</th>\n",
              "      <th>smr5</th>\n",
              "      <th>UAvg</th>\n",
              "      <th>MAvg</th>\n",
              "      <th>rating</th>\n",
              "    </tr>\n",
              "  </thead>\n",
              "  <tbody>\n",
              "    <tr>\n",
              "      <th>0</th>\n",
              "      <td>53406</td>\n",
              "      <td>33</td>\n",
              "      <td>3.581679</td>\n",
              "      <td>4.0</td>\n",
              "      <td>5.0</td>\n",
              "      <td>5.0</td>\n",
              "      <td>4.0</td>\n",
              "      <td>1.0</td>\n",
              "      <td>5.0</td>\n",
              "      <td>2.0</td>\n",
              "      <td>5.0</td>\n",
              "      <td>3.0</td>\n",
              "      <td>1.0</td>\n",
              "      <td>3.370370</td>\n",
              "      <td>4.092437</td>\n",
              "      <td>4</td>\n",
              "    </tr>\n",
              "    <tr>\n",
              "      <th>1</th>\n",
              "      <td>99540</td>\n",
              "      <td>33</td>\n",
              "      <td>3.581679</td>\n",
              "      <td>5.0</td>\n",
              "      <td>5.0</td>\n",
              "      <td>5.0</td>\n",
              "      <td>4.0</td>\n",
              "      <td>5.0</td>\n",
              "      <td>3.0</td>\n",
              "      <td>4.0</td>\n",
              "      <td>4.0</td>\n",
              "      <td>3.0</td>\n",
              "      <td>5.0</td>\n",
              "      <td>3.555556</td>\n",
              "      <td>4.092437</td>\n",
              "      <td>3</td>\n",
              "    </tr>\n",
              "    <tr>\n",
              "      <th>2</th>\n",
              "      <td>99865</td>\n",
              "      <td>33</td>\n",
              "      <td>3.581679</td>\n",
              "      <td>5.0</td>\n",
              "      <td>5.0</td>\n",
              "      <td>4.0</td>\n",
              "      <td>5.0</td>\n",
              "      <td>3.0</td>\n",
              "      <td>5.0</td>\n",
              "      <td>4.0</td>\n",
              "      <td>4.0</td>\n",
              "      <td>5.0</td>\n",
              "      <td>4.0</td>\n",
              "      <td>3.714286</td>\n",
              "      <td>4.092437</td>\n",
              "      <td>5</td>\n",
              "    </tr>\n",
              "    <tr>\n",
              "      <th>3</th>\n",
              "      <td>101620</td>\n",
              "      <td>33</td>\n",
              "      <td>3.581679</td>\n",
              "      <td>2.0</td>\n",
              "      <td>3.0</td>\n",
              "      <td>5.0</td>\n",
              "      <td>5.0</td>\n",
              "      <td>4.0</td>\n",
              "      <td>4.0</td>\n",
              "      <td>3.0</td>\n",
              "      <td>3.0</td>\n",
              "      <td>4.0</td>\n",
              "      <td>5.0</td>\n",
              "      <td>3.584416</td>\n",
              "      <td>4.092437</td>\n",
              "      <td>5</td>\n",
              "    </tr>\n",
              "    <tr>\n",
              "      <th>4</th>\n",
              "      <td>112974</td>\n",
              "      <td>33</td>\n",
              "      <td>3.581679</td>\n",
              "      <td>5.0</td>\n",
              "      <td>5.0</td>\n",
              "      <td>5.0</td>\n",
              "      <td>5.0</td>\n",
              "      <td>5.0</td>\n",
              "      <td>3.0</td>\n",
              "      <td>5.0</td>\n",
              "      <td>5.0</td>\n",
              "      <td>5.0</td>\n",
              "      <td>3.0</td>\n",
              "      <td>3.750000</td>\n",
              "      <td>4.092437</td>\n",
              "      <td>5</td>\n",
              "    </tr>\n",
              "  </tbody>\n",
              "</table>\n",
              "</div>"
            ],
            "text/plain": [
              "     user  movie      GAvg  sur1  sur2  sur3  sur4  sur5  smr1  smr2  smr3   \n",
              "0   53406     33  3.581679   4.0   5.0   5.0   4.0   1.0   5.0   2.0   5.0  \\\n",
              "1   99540     33  3.581679   5.0   5.0   5.0   4.0   5.0   3.0   4.0   4.0   \n",
              "2   99865     33  3.581679   5.0   5.0   4.0   5.0   3.0   5.0   4.0   4.0   \n",
              "3  101620     33  3.581679   2.0   3.0   5.0   5.0   4.0   4.0   3.0   3.0   \n",
              "4  112974     33  3.581679   5.0   5.0   5.0   5.0   5.0   3.0   5.0   5.0   \n",
              "\n",
              "   smr4  smr5      UAvg      MAvg  rating  \n",
              "0   3.0   1.0  3.370370  4.092437       4  \n",
              "1   3.0   5.0  3.555556  4.092437       3  \n",
              "2   5.0   4.0  3.714286  4.092437       5  \n",
              "3   4.0   5.0  3.584416  4.092437       5  \n",
              "4   5.0   3.0  3.750000  4.092437       5  "
            ]
          },
          "execution_count": 4,
          "metadata": {},
          "output_type": "execute_result"
        }
      ],
      "source": [
        "reg_train = pd.read_csv('./reg_train.csv', names = ['user', 'movie', 'GAvg', 'sur1', \n",
        "    'sur2', 'sur3', 'sur4', 'sur5','smr1', 'smr2', 'smr3', 'smr4', 'smr5', 'UAvg', 'MAvg', 'rating'], \n",
        "    header=None\n",
        ")\n",
        "reg_train.head()"
      ]
    },
    {
      "attachments": {},
      "cell_type": "markdown",
      "metadata": {},
      "source": [
        "- __GAvg__ : Average rating of all the ratings \n",
        "- __Similar users rating of this movie__:\n",
        "    - sur1, sur2, sur3, sur4, sur5 (Top 5 similar users who rated that movie)\n",
        "- __Similar movies rated by this user__:\n",
        "    - smr1, smr2, smr3, smr4, smr5 (Top 5 similar movies rated by this user)\n",
        "- __UAvg__ : User's Average rating\n",
        "- __MAvg__ : Average rating of this movie\n",
        "- __rating__ : Rating of this movie by this user."
      ]
    },
    {
      "cell_type": "code",
      "execution_count": 8,
      "metadata": {},
      "outputs": [
        {
          "data": {
            "text/html": [
              "<div>\n",
              "<style scoped>\n",
              "    .dataframe tbody tr th:only-of-type {\n",
              "        vertical-align: middle;\n",
              "    }\n",
              "\n",
              "    .dataframe tbody tr th {\n",
              "        vertical-align: top;\n",
              "    }\n",
              "\n",
              "    .dataframe thead th {\n",
              "        text-align: right;\n",
              "    }\n",
              "</style>\n",
              "<table border=\"1\" class=\"dataframe\">\n",
              "  <thead>\n",
              "    <tr style=\"text-align: right;\">\n",
              "      <th></th>\n",
              "      <th>user</th>\n",
              "      <th>movie</th>\n",
              "      <th>GAvg</th>\n",
              "      <th>sur1</th>\n",
              "      <th>sur2</th>\n",
              "      <th>sur3</th>\n",
              "      <th>sur4</th>\n",
              "      <th>sur5</th>\n",
              "      <th>smr1</th>\n",
              "      <th>smr2</th>\n",
              "      <th>smr3</th>\n",
              "      <th>smr4</th>\n",
              "      <th>smr5</th>\n",
              "      <th>UAvg</th>\n",
              "      <th>MAvg</th>\n",
              "      <th>rating</th>\n",
              "    </tr>\n",
              "  </thead>\n",
              "  <tbody>\n",
              "    <tr>\n",
              "      <th>0</th>\n",
              "      <td>808635</td>\n",
              "      <td>71</td>\n",
              "      <td>3.581679</td>\n",
              "      <td>3.581679</td>\n",
              "      <td>3.581679</td>\n",
              "      <td>3.581679</td>\n",
              "      <td>3.581679</td>\n",
              "      <td>3.581679</td>\n",
              "      <td>3.581679</td>\n",
              "      <td>3.581679</td>\n",
              "      <td>3.581679</td>\n",
              "      <td>3.581679</td>\n",
              "      <td>3.581679</td>\n",
              "      <td>3.581679</td>\n",
              "      <td>3.581679</td>\n",
              "      <td>5</td>\n",
              "    </tr>\n",
              "    <tr>\n",
              "      <th>1</th>\n",
              "      <td>898730</td>\n",
              "      <td>71</td>\n",
              "      <td>3.581679</td>\n",
              "      <td>3.581679</td>\n",
              "      <td>3.581679</td>\n",
              "      <td>3.581679</td>\n",
              "      <td>3.581679</td>\n",
              "      <td>3.581679</td>\n",
              "      <td>3.581679</td>\n",
              "      <td>3.581679</td>\n",
              "      <td>3.581679</td>\n",
              "      <td>3.581679</td>\n",
              "      <td>3.581679</td>\n",
              "      <td>3.581679</td>\n",
              "      <td>3.581679</td>\n",
              "      <td>3</td>\n",
              "    </tr>\n",
              "    <tr>\n",
              "      <th>2</th>\n",
              "      <td>941866</td>\n",
              "      <td>71</td>\n",
              "      <td>3.581679</td>\n",
              "      <td>3.581679</td>\n",
              "      <td>3.581679</td>\n",
              "      <td>3.581679</td>\n",
              "      <td>3.581679</td>\n",
              "      <td>3.581679</td>\n",
              "      <td>3.581679</td>\n",
              "      <td>3.581679</td>\n",
              "      <td>3.581679</td>\n",
              "      <td>3.581679</td>\n",
              "      <td>3.581679</td>\n",
              "      <td>3.581679</td>\n",
              "      <td>3.581679</td>\n",
              "      <td>4</td>\n",
              "    </tr>\n",
              "    <tr>\n",
              "      <th>3</th>\n",
              "      <td>1280761</td>\n",
              "      <td>71</td>\n",
              "      <td>3.581679</td>\n",
              "      <td>3.581679</td>\n",
              "      <td>3.581679</td>\n",
              "      <td>3.581679</td>\n",
              "      <td>3.581679</td>\n",
              "      <td>3.581679</td>\n",
              "      <td>3.581679</td>\n",
              "      <td>3.581679</td>\n",
              "      <td>3.581679</td>\n",
              "      <td>3.581679</td>\n",
              "      <td>3.581679</td>\n",
              "      <td>3.581679</td>\n",
              "      <td>3.581679</td>\n",
              "      <td>1</td>\n",
              "    </tr>\n",
              "  </tbody>\n",
              "</table>\n",
              "</div>"
            ],
            "text/plain": [
              "      user  movie      GAvg      sur1      sur2      sur3      sur4      sur5   \n",
              "0   808635     71  3.581679  3.581679  3.581679  3.581679  3.581679  3.581679  \\\n",
              "1   898730     71  3.581679  3.581679  3.581679  3.581679  3.581679  3.581679   \n",
              "2   941866     71  3.581679  3.581679  3.581679  3.581679  3.581679  3.581679   \n",
              "3  1280761     71  3.581679  3.581679  3.581679  3.581679  3.581679  3.581679   \n",
              "\n",
              "       smr1      smr2      smr3      smr4      smr5      UAvg      MAvg   \n",
              "0  3.581679  3.581679  3.581679  3.581679  3.581679  3.581679  3.581679  \\\n",
              "1  3.581679  3.581679  3.581679  3.581679  3.581679  3.581679  3.581679   \n",
              "2  3.581679  3.581679  3.581679  3.581679  3.581679  3.581679  3.581679   \n",
              "3  3.581679  3.581679  3.581679  3.581679  3.581679  3.581679  3.581679   \n",
              "\n",
              "   rating  \n",
              "0       5  \n",
              "1       3  \n",
              "2       4  \n",
              "3       1  "
            ]
          },
          "execution_count": 8,
          "metadata": {},
          "output_type": "execute_result"
        }
      ],
      "source": [
        "# Reading from the file to make a test dataframe\n",
        "reg_test_df = pd.read_csv('./reg_test.csv', names = ['user', 'movie', 'GAvg', 'sur1', 'sur2',\n",
        "'sur3', 'sur4', 'sur5', 'smr1', 'smr2', 'smr3', 'smr4', 'smr5', 'UAvg', 'MAvg', 'rating'], header=None)\n",
        "reg_test_df.head(4)"
      ]
    },
    {
      "cell_type": "code",
      "execution_count": 42,
      "metadata": {},
      "outputs": [],
      "source": [
        "# It is to specify how to read the dataframe.\n",
        "# For our dataframe, we don't have to specify anything extra\n",
        "reader = Reader(rating_scale=(1, 5))\n",
        "\n",
        "# Create the traindata from the dataframe\n",
        "train_data = Dataset.load_from_df(reg_train[['user', 'movie', 'rating']], reader)\n",
        "\n",
        "# Build the trainset from traindata, it is of dataset format from surprise library\n",
        "trainset = train_data.build_full_trainset() "
      ]
    },
    {
      "cell_type": "code",
      "execution_count": 43,
      "metadata": {},
      "outputs": [
        {
          "data": {
            "text/plain": [
              "[(808635, 71, 5), (898730, 71, 3), (941866, 71, 4)]"
            ]
          },
          "execution_count": 43,
          "metadata": {},
          "output_type": "execute_result"
        }
      ],
      "source": [
        "testset = list(zip(reg_test_df.user.values, reg_test_df.movie.values, reg_test_df.rating.values))\n",
        "testset[:3]"
      ]
    },
    {
      "cell_type": "code",
      "execution_count": 14,
      "metadata": {},
      "outputs": [
        {
          "data": {
            "text/plain": [
              "({}, {})"
            ]
          },
          "execution_count": 14,
          "metadata": {},
          "output_type": "execute_result"
        }
      ],
      "source": [
        "models_evaluation_train = dict()\n",
        "models_evaluation_test = dict()\n",
        "models_evaluation_train, models_evaluation_test"
      ]
    },
    {
      "cell_type": "code",
      "execution_count": 13,
      "metadata": {},
      "outputs": [],
      "source": [
        "def get_error_metrics(y_true, y_pred):\n",
        "    rmse = np.sqrt(np.mean([ (y_true[i] - y_pred[i])**2 for i in range(len(y_pred)) ]))\n",
        "    mape = np.mean(np.abs( (y_true - y_pred)/ y_true )) * 100\n",
        "    return rmse, mape\n",
        "\n",
        "def run_xgboost(algo,  x_train, y_train, x_test, y_test, verbose=True):\n",
        "    # Dictionaries for storing train and test results\n",
        "    train_results = dict()\n",
        "    test_results = dict()\n",
        "    \n",
        "    # Fit the model\n",
        "    print('Training the model')\n",
        "    start = datetime.now()\n",
        "    algo.fit(x_train, y_train, eval_metric = 'rmse')\n",
        "    print('Done. Time taken : {}'.format(datetime.now()-start))\n",
        "\n",
        "    # From the trained model, get the predictions\n",
        "    print('Evaluating the model with TRAIN data')\n",
        "    start = datetime.now()\n",
        "    y_train_pred = algo.predict(x_train)\n",
        "    # Get the RMSE and MAPE of train data\n",
        "    rmse_train, mape_train = get_error_metrics(y_train.values, y_train_pred)\n",
        "    if verbose:\n",
        "        print('-'*15)\n",
        "        print('Train Data')\n",
        "        print('-'*15)\n",
        "        print(\"RMSE: {}\\nMAPE: {}\".format(rmse_train, mape_train))\n",
        "    \n",
        "    # Store the results in train_results dictionary\n",
        "    train_results = {'rmse': rmse_train, 'mape' : mape_train, 'predictions' : y_train_pred}\n",
        "    \n",
        "    # Get the test data predictions and compute RMSE and MAPE\n",
        "    print('Evaluating Test data')\n",
        "    y_test_pred = algo.predict(x_test) \n",
        "    rmse_test, mape_test = get_error_metrics(y_true=y_test.values, y_pred=y_test_pred)\n",
        "    # Store them in our test results dictionary\n",
        "    test_results = {'rmse': rmse_test, 'mape' : mape_test, 'predictions':y_test_pred}\n",
        "    if verbose:\n",
        "        print('-'*15)\n",
        "        print('Test Data')\n",
        "        print('-'*15)\n",
        "        print('RMSE: ', rmse_test)\n",
        "        print('MAPE: ', mape_test)\n",
        "        \n",
        "    # Return these train and test results\n",
        "    return train_results, test_results"
      ]
    },
    {
      "cell_type": "code",
      "execution_count": 46,
      "metadata": {},
      "outputs": [
        {
          "name": "stdout",
          "output_type": "stream",
          "text": [
            "Training the model\n",
            "[16:59:08] WARNING: C:/buildkite-agent/builds/buildkite-windows-cpu-autoscaling-group-i-0fc7796c793e6356f-1/xgboost/xgboost-ci-windows/src/learner.cc:767: \n",
            "Parameters: { \"silent\" } are not used.\n",
            "\n"
          ]
        },
        {
          "name": "stderr",
          "output_type": "stream",
          "text": [
            "c:\\Users\\admin\\anaconda3\\lib\\site-packages\\xgboost\\sklearn.py:835: UserWarning: `eval_metric` in `fit` method is deprecated for better compatibility with scikit-learn, use `eval_metric` in constructor or`set_params` instead.\n",
            "  warnings.warn(\n"
          ]
        },
        {
          "name": "stdout",
          "output_type": "stream",
          "text": [
            "Done. Time taken : 0:00:02.477977\n",
            "Evaluating the model with TRAIN data\n",
            "---------------\n",
            "Train Data\n",
            "---------------\n",
            "RMSE: 0.595563456425939\n",
            "MAPE: 16.70881727240123\n",
            "Evaluating Test data\n",
            "---------------\n",
            "Test Data\n",
            "---------------\n",
            "RMSE:  1.1200549395432895\n",
            "MAPE:  33.83961570161242\n"
          ]
        },
        {
          "data": {
            "image/png": "[encoded data removed]",
            "text/plain": [
              "<Figure size 432x288 with 1 Axes>"
            ]
          },
          "metadata": {},
          "output_type": "display_data"
        }
      ],
      "source": [
        "# Prepare Train data\n",
        "x_train = reg_train.drop(['user','movie','rating'], axis=1)\n",
        "y_train = reg_train['rating']\n",
        "\n",
        "# Prepare Test data\n",
        "x_test = reg_test_df.drop(['user','movie','rating'], axis=1)\n",
        "y_test = reg_test_df['rating']\n",
        "\n",
        "# Initialize Our first XGBoost model\n",
        "first_xgb = xgb.XGBRegressor(silent=False, n_jobs=13, random_state=15, n_estimators=100)\n",
        "train_results, test_results = run_xgboost(first_xgb, x_train, y_train, x_test, y_test)\n",
        "\n",
        "# Store the results in models_evaluations dictionaries\n",
        "models_evaluation_train['first_algo'] = train_results\n",
        "models_evaluation_test['first_algo'] = test_results\n",
        "\n",
        "xgb.plot_importance(first_xgb)\n",
        "plt.show()"
      ]
    },
    {
      "cell_type": "code",
      "execution_count": 53,
      "metadata": {},
      "outputs": [
        {
          "data": {
            "text/html": [
              "<div>\n",
              "<style scoped>\n",
              "    .dataframe tbody tr th:only-of-type {\n",
              "        vertical-align: middle;\n",
              "    }\n",
              "\n",
              "    .dataframe tbody tr th {\n",
              "        vertical-align: top;\n",
              "    }\n",
              "\n",
              "    .dataframe thead th {\n",
              "        text-align: right;\n",
              "    }\n",
              "</style>\n",
              "<table border=\"1\" class=\"dataframe\">\n",
              "  <thead>\n",
              "    <tr style=\"text-align: right;\">\n",
              "      <th></th>\n",
              "      <th>user</th>\n",
              "      <th>movie</th>\n",
              "      <th>GAvg</th>\n",
              "      <th>sur1</th>\n",
              "      <th>sur2</th>\n",
              "      <th>sur3</th>\n",
              "      <th>sur4</th>\n",
              "      <th>sur5</th>\n",
              "      <th>smr1</th>\n",
              "      <th>smr2</th>\n",
              "      <th>smr3</th>\n",
              "      <th>smr4</th>\n",
              "      <th>smr5</th>\n",
              "      <th>UAvg</th>\n",
              "      <th>MAvg</th>\n",
              "      <th>rating</th>\n",
              "      <th>svd</th>\n",
              "      <th>svdpp</th>\n",
              "    </tr>\n",
              "  </thead>\n",
              "  <tbody>\n",
              "    <tr>\n",
              "      <th>0</th>\n",
              "      <td>53406</td>\n",
              "      <td>33</td>\n",
              "      <td>3.581679</td>\n",
              "      <td>4.0</td>\n",
              "      <td>5.0</td>\n",
              "      <td>5.0</td>\n",
              "      <td>4.0</td>\n",
              "      <td>1.0</td>\n",
              "      <td>5.0</td>\n",
              "      <td>2.0</td>\n",
              "      <td>5.0</td>\n",
              "      <td>3.0</td>\n",
              "      <td>1.0</td>\n",
              "      <td>3.370370</td>\n",
              "      <td>4.092437</td>\n",
              "      <td>4</td>\n",
              "      <td>4.197043</td>\n",
              "      <td>3.815752</td>\n",
              "    </tr>\n",
              "    <tr>\n",
              "      <th>1</th>\n",
              "      <td>99540</td>\n",
              "      <td>33</td>\n",
              "      <td>3.581679</td>\n",
              "      <td>5.0</td>\n",
              "      <td>5.0</td>\n",
              "      <td>5.0</td>\n",
              "      <td>4.0</td>\n",
              "      <td>5.0</td>\n",
              "      <td>3.0</td>\n",
              "      <td>4.0</td>\n",
              "      <td>4.0</td>\n",
              "      <td>3.0</td>\n",
              "      <td>5.0</td>\n",
              "      <td>3.555556</td>\n",
              "      <td>4.092437</td>\n",
              "      <td>3</td>\n",
              "      <td>3.063828</td>\n",
              "      <td>3.113076</td>\n",
              "    </tr>\n",
              "  </tbody>\n",
              "</table>\n",
              "</div>"
            ],
            "text/plain": [
              "    user  movie      GAvg  sur1  sur2  sur3  sur4  sur5  smr1  smr2  smr3  \\\n",
              "0  53406     33  3.581679   4.0   5.0   5.0   4.0   1.0   5.0   2.0   5.0   \n",
              "1  99540     33  3.581679   5.0   5.0   5.0   4.0   5.0   3.0   4.0   4.0   \n",
              "\n",
              "   smr4  smr5      UAvg      MAvg  rating       svd     svdpp  \n",
              "0   3.0   1.0  3.370370  4.092437       4  4.197043  3.815752  \n",
              "1   3.0   5.0  3.555556  4.092437       3  3.063828  3.113076  "
            ]
          },
          "execution_count": 53,
          "metadata": {},
          "output_type": "execute_result"
        }
      ],
      "source": [
        "# Preparing Train data\n",
        "# Add the predicted values from both knns to this dataframe\n",
        "reg_train['svd'] = models_evaluation_train['svd']['predictions']\n",
        "reg_train['svdpp'] = models_evaluation_train['svdpp']['predictions']\n",
        "reg_train.head(2) "
      ]
    },
    {
      "cell_type": "code",
      "execution_count": 54,
      "metadata": {},
      "outputs": [
        {
          "data": {
            "text/html": [
              "<div>\n",
              "<style scoped>\n",
              "    .dataframe tbody tr th:only-of-type {\n",
              "        vertical-align: middle;\n",
              "    }\n",
              "\n",
              "    .dataframe tbody tr th {\n",
              "        vertical-align: top;\n",
              "    }\n",
              "\n",
              "    .dataframe thead th {\n",
              "        text-align: right;\n",
              "    }\n",
              "</style>\n",
              "<table border=\"1\" class=\"dataframe\">\n",
              "  <thead>\n",
              "    <tr style=\"text-align: right;\">\n",
              "      <th></th>\n",
              "      <th>user</th>\n",
              "      <th>movie</th>\n",
              "      <th>GAvg</th>\n",
              "      <th>sur1</th>\n",
              "      <th>sur2</th>\n",
              "      <th>sur3</th>\n",
              "      <th>sur4</th>\n",
              "      <th>sur5</th>\n",
              "      <th>smr1</th>\n",
              "      <th>smr2</th>\n",
              "      <th>smr3</th>\n",
              "      <th>smr4</th>\n",
              "      <th>smr5</th>\n",
              "      <th>UAvg</th>\n",
              "      <th>MAvg</th>\n",
              "      <th>rating</th>\n",
              "      <th>svd</th>\n",
              "      <th>svdpp</th>\n",
              "    </tr>\n",
              "  </thead>\n",
              "  <tbody>\n",
              "    <tr>\n",
              "      <th>0</th>\n",
              "      <td>808635</td>\n",
              "      <td>71</td>\n",
              "      <td>3.581679</td>\n",
              "      <td>3.581679</td>\n",
              "      <td>3.581679</td>\n",
              "      <td>3.581679</td>\n",
              "      <td>3.581679</td>\n",
              "      <td>3.581679</td>\n",
              "      <td>3.581679</td>\n",
              "      <td>3.581679</td>\n",
              "      <td>3.581679</td>\n",
              "      <td>3.581679</td>\n",
              "      <td>3.581679</td>\n",
              "      <td>3.581679</td>\n",
              "      <td>3.581679</td>\n",
              "      <td>5</td>\n",
              "      <td>3.487104</td>\n",
              "      <td>3.487104</td>\n",
              "    </tr>\n",
              "    <tr>\n",
              "      <th>1</th>\n",
              "      <td>898730</td>\n",
              "      <td>71</td>\n",
              "      <td>3.581679</td>\n",
              "      <td>3.581679</td>\n",
              "      <td>3.581679</td>\n",
              "      <td>3.581679</td>\n",
              "      <td>3.581679</td>\n",
              "      <td>3.581679</td>\n",
              "      <td>3.581679</td>\n",
              "      <td>3.581679</td>\n",
              "      <td>3.581679</td>\n",
              "      <td>3.581679</td>\n",
              "      <td>3.581679</td>\n",
              "      <td>3.581679</td>\n",
              "      <td>3.581679</td>\n",
              "      <td>3</td>\n",
              "      <td>3.487104</td>\n",
              "      <td>3.487104</td>\n",
              "    </tr>\n",
              "  </tbody>\n",
              "</table>\n",
              "</div>"
            ],
            "text/plain": [
              "     user  movie      GAvg      sur1      sur2      sur3      sur4      sur5  \\\n",
              "0  808635     71  3.581679  3.581679  3.581679  3.581679  3.581679  3.581679   \n",
              "1  898730     71  3.581679  3.581679  3.581679  3.581679  3.581679  3.581679   \n",
              "\n",
              "       smr1      smr2      smr3      smr4      smr5      UAvg      MAvg  \\\n",
              "0  3.581679  3.581679  3.581679  3.581679  3.581679  3.581679  3.581679   \n",
              "1  3.581679  3.581679  3.581679  3.581679  3.581679  3.581679  3.581679   \n",
              "\n",
              "   rating       svd     svdpp  \n",
              "0       5  3.487104  3.487104  \n",
              "1       3  3.487104  3.487104  "
            ]
          },
          "execution_count": 54,
          "metadata": {},
          "output_type": "execute_result"
        }
      ],
      "source": [
        "# Preparing Test data\n",
        "reg_test_df['svd'] = models_evaluation_test['svd']['predictions']\n",
        "reg_test_df['svdpp'] = models_evaluation_test['svdpp']['predictions']\n",
        "reg_test_df.head(2) "
      ]
    },
    {
      "cell_type": "code",
      "execution_count": 55,
      "metadata": {},
      "outputs": [
        {
          "name": "stdout",
          "output_type": "stream",
          "text": [
            "Training the model\n"
          ]
        },
        {
          "name": "stderr",
          "output_type": "stream",
          "text": [
            "c:\\Users\\admin\\anaconda3\\lib\\site-packages\\xgboost\\sklearn.py:835: UserWarning: `eval_metric` in `fit` method is deprecated for better compatibility with scikit-learn, use `eval_metric` in constructor or`set_params` instead.\n",
            "  warnings.warn(\n"
          ]
        },
        {
          "name": "stdout",
          "output_type": "stream",
          "text": [
            "Done. Time taken : 0:00:02.293655\n",
            "Evaluating the model with TRAIN data\n",
            "---------------\n",
            "Train Data\n",
            "---------------\n",
            "RMSE: 0.5665129872588599\n",
            "MAPE: 16.063894110901874\n",
            "Evaluating Test data\n",
            "---------------\n",
            "Test Data\n",
            "---------------\n",
            "RMSE:  1.0916600989609397\n",
            "MAPE:  35.125507325101644\n"
          ]
        },
        {
          "data": {
            "image/png": "[encoded data removed]",
            "text/plain": [
              "<Figure size 432x288 with 1 Axes>"
            ]
          },
          "metadata": {},
          "output_type": "display_data"
        }
      ],
      "source": [
        "# Prepare x_train and y_train\n",
        "x_train = reg_train.drop(['user', 'movie', 'rating',], axis=1)\n",
        "y_train = reg_train['rating']\n",
        "\n",
        "# Prepare test data\n",
        "x_test = reg_test_df.drop(['user', 'movie', 'rating'], axis=1)\n",
        "y_test = reg_test_df['rating']\n",
        "\n",
        "xgb_final = xgb.XGBRegressor(n_jobs=10, random_state=15)\n",
        "train_results, test_results = run_xgboost(xgb_final, x_train, y_train, x_test, y_test)\n",
        "\n",
        "# Store the results in models_evaluations dictionaries\n",
        "models_evaluation_train['xgb_final'] = train_results\n",
        "models_evaluation_test['xgb_final'] = test_results\n",
        "\n",
        "xgb.plot_importance(xgb_final)\n",
        "plt.show()"
      ]
    },
    {
      "cell_type": "code",
      "execution_count": 56,
      "metadata": {},
      "outputs": [
        {
          "data": {
            "text/plain": [
              "svdpp         1.0897266245910153\n",
              "svd           1.0899126686574399\n",
              "knn_bsl_m     1.0899356151411084\n",
              "xgb_final     1.0916600989609397\n",
              "first_algo    1.1200549395432895\n",
              "Name: rmse, dtype: object"
            ]
          },
          "execution_count": 56,
          "metadata": {},
          "output_type": "execute_result"
        }
      ],
      "source": [
        "# Saving our TEST_RESULTS into a dataframe so that you don't have to run it again\n",
        "pd.DataFrame(models_evaluation_test).to_csv('small_sample_results.csv')\n",
        "models = pd.read_csv('./small_sample_results.csv', index_col=0)\n",
        "models.loc['rmse'].sort_values()"
      ]
    },
    {
      "attachments": {},
      "cell_type": "markdown",
      "metadata": {},
      "source": [
        "## Xgboost vs Logistic Regression"
      ]
    },
    {
      "cell_type": "code",
      "execution_count": 7,
      "metadata": {},
      "outputs": [
        {
          "data": {
            "text/html": [
              "<div>\n",
              "<style scoped>\n",
              "    .dataframe tbody tr th:only-of-type {\n",
              "        vertical-align: middle;\n",
              "    }\n",
              "\n",
              "    .dataframe tbody tr th {\n",
              "        vertical-align: top;\n",
              "    }\n",
              "\n",
              "    .dataframe thead th {\n",
              "        text-align: right;\n",
              "    }\n",
              "</style>\n",
              "<table border=\"1\" class=\"dataframe\">\n",
              "  <thead>\n",
              "    <tr style=\"text-align: right;\">\n",
              "      <th></th>\n",
              "      <th>user</th>\n",
              "      <th>movie</th>\n",
              "      <th>UAvg</th>\n",
              "      <th>MAvg</th>\n",
              "      <th>rating</th>\n",
              "    </tr>\n",
              "  </thead>\n",
              "  <tbody>\n",
              "    <tr>\n",
              "      <th>0</th>\n",
              "      <td>53406</td>\n",
              "      <td>33</td>\n",
              "      <td>3.370370</td>\n",
              "      <td>4.092437</td>\n",
              "      <td>4</td>\n",
              "    </tr>\n",
              "    <tr>\n",
              "      <th>1</th>\n",
              "      <td>99540</td>\n",
              "      <td>33</td>\n",
              "      <td>3.555556</td>\n",
              "      <td>4.092437</td>\n",
              "      <td>3</td>\n",
              "    </tr>\n",
              "    <tr>\n",
              "      <th>2</th>\n",
              "      <td>99865</td>\n",
              "      <td>33</td>\n",
              "      <td>3.714286</td>\n",
              "      <td>4.092437</td>\n",
              "      <td>5</td>\n",
              "    </tr>\n",
              "    <tr>\n",
              "      <th>3</th>\n",
              "      <td>101620</td>\n",
              "      <td>33</td>\n",
              "      <td>3.584416</td>\n",
              "      <td>4.092437</td>\n",
              "      <td>5</td>\n",
              "    </tr>\n",
              "    <tr>\n",
              "      <th>4</th>\n",
              "      <td>112974</td>\n",
              "      <td>33</td>\n",
              "      <td>3.750000</td>\n",
              "      <td>4.092437</td>\n",
              "      <td>5</td>\n",
              "    </tr>\n",
              "  </tbody>\n",
              "</table>\n",
              "</div>"
            ],
            "text/plain": [
              "     user  movie      UAvg      MAvg  rating\n",
              "0   53406     33  3.370370  4.092437       4\n",
              "1   99540     33  3.555556  4.092437       3\n",
              "2   99865     33  3.714286  4.092437       5\n",
              "3  101620     33  3.584416  4.092437       5\n",
              "4  112974     33  3.750000  4.092437       5"
            ]
          },
          "execution_count": 7,
          "metadata": {},
          "output_type": "execute_result"
        }
      ],
      "source": [
        "reg_train_new = reg_train.loc[:,['user', 'movie','UAvg', 'MAvg', 'rating']]\n",
        "reg_train_new.head()"
      ]
    },
    {
      "cell_type": "code",
      "execution_count": 10,
      "metadata": {},
      "outputs": [
        {
          "data": {
            "text/html": [
              "<div>\n",
              "<style scoped>\n",
              "    .dataframe tbody tr th:only-of-type {\n",
              "        vertical-align: middle;\n",
              "    }\n",
              "\n",
              "    .dataframe tbody tr th {\n",
              "        vertical-align: top;\n",
              "    }\n",
              "\n",
              "    .dataframe thead th {\n",
              "        text-align: right;\n",
              "    }\n",
              "</style>\n",
              "<table border=\"1\" class=\"dataframe\">\n",
              "  <thead>\n",
              "    <tr style=\"text-align: right;\">\n",
              "      <th></th>\n",
              "      <th>user</th>\n",
              "      <th>movie</th>\n",
              "      <th>UAvg</th>\n",
              "      <th>MAvg</th>\n",
              "      <th>rating</th>\n",
              "    </tr>\n",
              "  </thead>\n",
              "  <tbody>\n",
              "    <tr>\n",
              "      <th>0</th>\n",
              "      <td>808635</td>\n",
              "      <td>71</td>\n",
              "      <td>3.581679</td>\n",
              "      <td>3.581679</td>\n",
              "      <td>5</td>\n",
              "    </tr>\n",
              "    <tr>\n",
              "      <th>1</th>\n",
              "      <td>898730</td>\n",
              "      <td>71</td>\n",
              "      <td>3.581679</td>\n",
              "      <td>3.581679</td>\n",
              "      <td>3</td>\n",
              "    </tr>\n",
              "    <tr>\n",
              "      <th>2</th>\n",
              "      <td>941866</td>\n",
              "      <td>71</td>\n",
              "      <td>3.581679</td>\n",
              "      <td>3.581679</td>\n",
              "      <td>4</td>\n",
              "    </tr>\n",
              "    <tr>\n",
              "      <th>3</th>\n",
              "      <td>1280761</td>\n",
              "      <td>71</td>\n",
              "      <td>3.581679</td>\n",
              "      <td>3.581679</td>\n",
              "      <td>1</td>\n",
              "    </tr>\n",
              "    <tr>\n",
              "      <th>4</th>\n",
              "      <td>1386925</td>\n",
              "      <td>71</td>\n",
              "      <td>3.581679</td>\n",
              "      <td>3.581679</td>\n",
              "      <td>3</td>\n",
              "    </tr>\n",
              "  </tbody>\n",
              "</table>\n",
              "</div>"
            ],
            "text/plain": [
              "      user  movie      UAvg      MAvg  rating\n",
              "0   808635     71  3.581679  3.581679       5\n",
              "1   898730     71  3.581679  3.581679       3\n",
              "2   941866     71  3.581679  3.581679       4\n",
              "3  1280761     71  3.581679  3.581679       1\n",
              "4  1386925     71  3.581679  3.581679       3"
            ]
          },
          "execution_count": 10,
          "metadata": {},
          "output_type": "execute_result"
        }
      ],
      "source": [
        "\n",
        "reg_test_new = reg_test_df.loc[:,['user', 'movie','UAvg', 'MAvg', 'rating']]\n",
        "reg_test_new.head()"
      ]
    },
    {
      "cell_type": "code",
      "execution_count": 11,
      "metadata": {},
      "outputs": [],
      "source": [
        "reader=Reader(rating_scale=(1,5))\n",
        "train_data_new= Dataset.load_from_df(reg_train_new[['user','movie','rating']],reader=reader)\n",
        "trainset=train_data_new.build_full_trainset()"
      ]
    },
    {
      "cell_type": "code",
      "execution_count": 12,
      "metadata": {},
      "outputs": [
        {
          "data": {
            "text/plain": [
              "[(808635, 71, 5), (898730, 71, 3), (941866, 71, 4)]"
            ]
          },
          "execution_count": 12,
          "metadata": {},
          "output_type": "execute_result"
        }
      ],
      "source": [
        "testset = list(zip(reg_test_new.user.values, reg_test_new.movie.values, reg_test_new.rating.values))\n",
        "testset[:3]"
      ]
    },
    {
      "cell_type": "code",
      "execution_count": 15,
      "metadata": {},
      "outputs": [
        {
          "name": "stdout",
          "output_type": "stream",
          "text": [
            "Training the model\n",
            "[09:15:04] WARNING: C:/buildkite-agent/builds/buildkite-windows-cpu-autoscaling-group-i-0fc7796c793e6356f-1/xgboost/xgboost-ci-windows/src/learner.cc:767: \n",
            "Parameters: { \"silent\" } are not used.\n",
            "\n"
          ]
        },
        {
          "name": "stderr",
          "output_type": "stream",
          "text": [
            "c:\\Users\\admin\\anaconda3\\lib\\site-packages\\xgboost\\sklearn.py:835: UserWarning: `eval_metric` in `fit` method is deprecated for better compatibility with scikit-learn, use `eval_metric` in constructor or`set_params` instead.\n",
            "  warnings.warn(\n"
          ]
        },
        {
          "name": "stdout",
          "output_type": "stream",
          "text": [
            "Done. Time taken : 0:00:01.033567\n",
            "Evaluating the model with TRAIN data\n",
            "---------------\n",
            "Train Data\n",
            "---------------\n",
            "RMSE: 0.7604869812746662\n",
            "MAPE: 22.78107643306698\n",
            "Evaluating Test data\n",
            "---------------\n",
            "Test Data\n",
            "---------------\n",
            "RMSE:  1.0909642459993458\n",
            "MAPE:  36.51079582328741\n"
          ]
        },
        {
          "data": {
            "image/png": "[encoded data removed]",
            "text/plain": [
              "<Figure size 432x288 with 1 Axes>"
            ]
          },
          "metadata": {
            "needs_background": "light"
          },
          "output_type": "display_data"
        }
      ],
      "source": [
        "# Prepare Train data\n",
        "x_train = reg_train_new.drop(['user','movie','rating'], axis=1)\n",
        "y_train = reg_train_new['rating']\n",
        "\n",
        "# Prepare Test data\n",
        "x_test = reg_test_new.drop(['user','movie','rating'], axis=1)\n",
        "y_test = reg_test_new['rating']\n",
        "\n",
        "# Initialize Our first XGBoost model\n",
        "xgb_new = xgb.XGBRegressor(silent=False, n_jobs=-1, random_state=15, n_estimators=100)\n",
        "train_results, test_results = run_xgboost(xgb_new, x_train, y_train, x_test, y_test)\n",
        "\n",
        "# Store the results in models_evaluations dictionaries\n",
        "models_evaluation_train['XGB_New'] = train_results\n",
        "models_evaluation_test['XGB_New'] = test_results\n",
        "\n",
        "xgb.plot_importance(xgb_new)\n",
        "plt.show()"
      ]
    },
    {
      "cell_type": "code",
      "execution_count": 21,
      "metadata": {},
      "outputs": [
        {
          "name": "stdout",
          "output_type": "stream",
          "text": [
            "RMSE: 1.1586694826653028 \n",
            " MAPE: 38.5391036109599\n"
          ]
        },
        {
          "name": "stderr",
          "output_type": "stream",
          "text": [
            "c:\\Users\\admin\\anaconda3\\lib\\site-packages\\sklearn\\linear_model\\_logistic.py:444: ConvergenceWarning: lbfgs failed to converge (status=1):\n",
            "STOP: TOTAL NO. of ITERATIONS REACHED LIMIT.\n",
            "\n",
            "Increase the number of iterations (max_iter) or scale the data as shown in:\n",
            "    https://scikit-learn.org/stable/modules/preprocessing.html\n",
            "Please also refer to the documentation for alternative solver options:\n",
            "    https://scikit-learn.org/stable/modules/linear_model.html#logistic-regression\n",
            "  n_iter_i = _check_optimize_result(\n"
          ]
        }
      ],
      "source": [
        "from sklearn.linear_model import LogisticRegression\n",
        "\n",
        "LR=LogisticRegression()\n",
        "LR.fit(x_train, y_train)\n",
        "y_pred = LR.predict(x_test)\n",
        "\n",
        "def get_error_metrics(y_true, y_pred):\n",
        "    rmse = np.sqrt(np.mean([ (y_true[i] - y_pred[i])**2 for i in range(len(y_pred)) ]))\n",
        "    mape = np.mean(np.abs( (y_true - y_pred)/ y_true )) * 100\n",
        "    print('RMSE:',rmse,'\\n','MAPE:',mape)\n",
        "get_error_metrics(y_test,y_pred)\n",
        "\n"
      ]
    },
    {
      "attachments": {},
      "cell_type": "markdown",
      "metadata": {},
      "source": [
        "## Evaluation Metrics"
      ]
    },
    {
      "cell_type": "code",
      "execution_count": 11,
      "metadata": {},
      "outputs": [
        {
          "name": "stdout",
          "output_type": "stream",
          "text": [
            "Processing epoch 0\n",
            "Processing epoch 1\n",
            "Processing epoch 2\n",
            "Processing epoch 3\n",
            "Processing epoch 4\n",
            "Processing epoch 5\n",
            "Processing epoch 6\n",
            "Processing epoch 7\n",
            "Processing epoch 8\n",
            "Processing epoch 9\n",
            "Processing epoch 10\n",
            "Processing epoch 11\n",
            "Processing epoch 12\n",
            "Processing epoch 13\n",
            "Processing epoch 14\n",
            "Processing epoch 15\n",
            "Processing epoch 16\n",
            "Processing epoch 17\n",
            "Processing epoch 18\n",
            "Processing epoch 19\n"
          ]
        }
      ],
      "source": [
        "\n",
        "\n",
        "svd = SVD(n_factors=100, biased=True, random_state=15, verbose=True)\n",
        "svd.fit(trainset)\n",
        "test_preds = svd.test(testset)"
      ]
    },
    {
      "cell_type": "code",
      "execution_count": 57,
      "metadata": {},
      "outputs": [],
      "source": [
        "test_actual_ratings, test_pred_ratings = get_ratings(test_preds)\n"
      ]
    },
    {
      "cell_type": "code",
      "execution_count": 97,
      "metadata": {},
      "outputs": [
        {
          "data": {
            "text/plain": [
              "2500000"
            ]
          },
          "execution_count": 97,
          "metadata": {},
          "output_type": "execute_result"
        }
      ],
      "source": [
        "len(test_pred_ratings)"
      ]
    },
    {
      "cell_type": "code",
      "execution_count": 64,
      "metadata": {},
      "outputs": [
        {
          "data": {
            "text/plain": [
              "array([2, 4, 5, ..., 4, 5, 5], dtype=int64)"
            ]
          },
          "execution_count": 64,
          "metadata": {},
          "output_type": "execute_result"
        }
      ],
      "source": [
        "test_actual_ratings"
      ]
    },
    {
      "cell_type": "code",
      "execution_count": 73,
      "metadata": {},
      "outputs": [
        {
          "name": "stdout",
          "output_type": "stream",
          "text": [
            "0.32720539669892096\n"
          ]
        }
      ],
      "source": [
        "mape = np.mean(np.abs(test_pred_ratings - test_actual_ratings)/test_actual_ratings)\n",
        "print(mape)"
      ]
    },
    {
      "cell_type": "code",
      "execution_count": 92,
      "metadata": {},
      "outputs": [
        {
          "data": {
            "text/plain": [
              "1.1006367120170477"
            ]
          },
          "execution_count": 92,
          "metadata": {},
          "output_type": "execute_result"
        }
      ],
      "source": [
        "rmse = np.sqrt(np.mean((test_pred_ratings - test_actual_ratings)**2))\n",
        "rmse"
      ]
    },
    {
      "cell_type": "code",
      "execution_count": 80,
      "metadata": {},
      "outputs": [
        {
          "name": "stdout",
          "output_type": "stream",
          "text": [
            "0.19600090153410674\n",
            "0.05536122814810401\n"
          ]
        }
      ],
      "source": [
        "from collections import defaultdict\n",
        "\n",
        "def precision_recall_at_k(predictions, k=10, threshold=3.5):\n",
        "    \"\"\"Return precision and recall at k metrics for each user\"\"\"\n",
        "\n",
        "    # First map the predictions to each user.\n",
        "    user_est_true = defaultdict(list)\n",
        "    for uid, _, true_r, est, _ in predictions:\n",
        "        user_est_true[uid].append((est, true_r))\n",
        "\n",
        "    precisions = dict()\n",
        "    recalls = dict()\n",
        "    for uid, user_ratings in user_est_true.items():\n",
        "\n",
        "        # Sort user ratings by estimated value\n",
        "        user_ratings.sort(key=lambda x: x[0], reverse=True)\n",
        "\n",
        "        # Number of relevant items\n",
        "        n_rel = sum((true_r >= threshold) for (_, true_r) in user_ratings)\n",
        "\n",
        "        # Number of recommended items in top k\n",
        "        n_rec_k = sum((est >= threshold) for (est, _) in user_ratings[:k])\n",
        "\n",
        "        # Number of relevant and recommended items in top k\n",
        "        n_rel_and_rec_k = sum(\n",
        "            ((true_r >= threshold) and (est >= threshold))\n",
        "            for (est, true_r) in user_ratings[:k]\n",
        "        )\n",
        "\n",
        "        # Precision@K: Proportion of recommended items that are relevant\n",
        "        # When n_rec_k is 0, Precision is undefined. We here set it to 0.\n",
        "\n",
        "        precisions[uid] = n_rel_and_rec_k / n_rec_k if n_rec_k != 0 else 0\n",
        "\n",
        "        # Recall@K: Proportion of relevant items that are recommended\n",
        "        # When n_rel is 0, Recall is undefined. We here set it to 0.\n",
        "\n",
        "        recalls[uid] = n_rel_and_rec_k / n_rel if n_rel != 0 else 0\n",
        "\n",
        "    return precisions, recalls\n",
        "\n",
        "\n",
        "precisions, recalls = precision_recall_at_k(test_preds, k=20, threshold=4)\n",
        "\n",
        "# Precision and recall can then be averaged over all users\n",
        "print(sum(prec for prec in precisions.values()) / len(precisions))\n",
        "print(sum(rec for rec in recalls.values()) / len(recalls))"
      ]
    }
  ],
  "metadata": {
    "colab": {
      "provenance": []
    },
    "kernelspec": {
      "display_name": "Python 3",
      "language": "python",
      "name": "python3"
    },
    "language_info": {
      "codemirror_mode": {
        "name": "ipython",
        "version": 3
      },
      "file_extension": ".py",
      "mimetype": "text/x-python",
      "name": "python",
      "nbconvert_exporter": "python",
      "pygments_lexer": "ipython3",
      "version": "3.9.7"
    }
  },
  "nbformat": 4,
  "nbformat_minor": 0
}
